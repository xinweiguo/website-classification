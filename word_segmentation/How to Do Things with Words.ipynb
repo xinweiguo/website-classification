{
 "cells": [
  {
   "cell_type": "code",
   "execution_count": 3,
   "metadata": {},
   "outputs": [
    {
     "name": "stdout",
     "output_type": "stream",
     "text": [
      "Populating the interactive namespace from numpy and matplotlib\n"
     ]
    }
   ],
   "source": [
    "# Boring preliminaries\n",
    "%pylab inline\n",
    "import re\n",
    "import math\n",
    "import string\n",
    "from collections import Counter\n"
   ]
  },
  {
   "cell_type": "markdown",
   "metadata": {},
   "source": [
    "<center>\n",
    "<h1>Statistical Natural Language Processing in Python.\n",
    "<br><font color=blue>or</font>\n",
    "<br>How To Do Things With Words.  And Counters.\n",
    "<br><font color=blue>or</font>\n",
    "<br>Everything I Needed to Know About NLP I learned From Sesame Street.\n",
    "<br>Except Kneser-Ney Smoothing.\n",
    "<br>The Count Didn't Cover That.\n",
    "<br>\n",
    "<br><img src='http://norvig.com/ipython/the-count.jpg'> \n",
    "<br>*One, two, three, ah, ah, ah!* &mdash; The Count\n",
    "</center>\n",
    "<hr>"
   ]
  },
  {
   "cell_type": "markdown",
   "metadata": {},
   "source": [
    "(1) Data: Text and Words\n",
    "========\n",
    "\n",
    "Before we can do things with words, we need some words.  First we need some *text*, possibly from a *file*.  Then we can break the text into words.  I happen to have a big text called [big.txt](file:///Users/pnorvig/Documents/ipynb/big.txt).  We can read it, and see how big it is (in characters):"
   ]
  },
  {
   "cell_type": "code",
   "execution_count": 6,
   "metadata": {},
   "outputs": [
    {
     "data": {
      "text/plain": [
       "6488666"
      ]
     },
     "execution_count": 6,
     "metadata": {},
     "output_type": "execute_result"
    }
   ],
   "source": [
    "TEXT = open('big.txt').read()\n",
    "len(TEXT)"
   ]
  },
  {
   "cell_type": "markdown",
   "metadata": {},
   "source": [
    "So, six million characters.\n",
    "\n",
    "Now let's break the text up into words (or more formal-sounding, *tokens*).  For now we'll ignore all the punctuation and numbers, and anything that is not a letter."
   ]
  },
  {
   "cell_type": "code",
   "execution_count": 7,
   "metadata": {},
   "outputs": [],
   "source": [
    "def tokens(text):\n",
    "    \"List all the word tokens (consecutive letters) in a text. Normalize to lowercase.\"\n",
    "    return re.findall('[a-z]+', text.lower()) "
   ]
  },
  {
   "cell_type": "code",
   "execution_count": 8,
   "metadata": {},
   "outputs": [
    {
     "data": {
      "text/plain": [
       "['this', 'is', 'a', 'test', 'this', 'is']"
      ]
     },
     "execution_count": 8,
     "metadata": {},
     "output_type": "execute_result"
    }
   ],
   "source": [
    "tokens('This is: A test, 1, 2, 3, this is.')"
   ]
  },
  {
   "cell_type": "code",
   "execution_count": 10,
   "metadata": {},
   "outputs": [
    {
     "data": {
      "text/plain": [
       "1105285"
      ]
     },
     "execution_count": 10,
     "metadata": {},
     "output_type": "execute_result"
    }
   ],
   "source": [
    "WORDS = tokens(TEXT)\n",
    "len(WORDS)"
   ]
  },
  {
   "cell_type": "markdown",
   "metadata": {},
   "source": [
    "So, a million words.  Here are the first 10:\n",
    "\n"
   ]
  },
  {
   "cell_type": "code",
   "execution_count": 11,
   "metadata": {},
   "outputs": [
    {
     "name": "stdout",
     "output_type": "stream",
     "text": [
      "['the', 'project', 'gutenberg', 'ebook', 'of', 'the', 'adventures', 'of', 'sherlock', 'holmes']\n"
     ]
    }
   ],
   "source": [
    "print(WORDS[:10])"
   ]
  },
  {
   "cell_type": "markdown",
   "metadata": {},
   "source": [
    "(2) Models: Bag of Words\n",
    "====\n",
    "\n",
    "The list `WORDS` is a list of the words in the `TEXT`, but it can also serve as a *generative model* of text. We know that language is very complicated, but we can create a simplified model of language that captures part of the complexity.  In the *bag of words* model, we ignore the order of words, but maintain their frequency.  Think of it this way: take all the words from the text, and throw them into a bag.  Shake the bag, and then generating a sentence consists of pulling words out of the bag one at a time.  Chances are it won't be grammatical or sensible, but it will have words in roughly the right proportions.  Here's a function to sample an *n* word sentence from a bag of words:"
   ]
  },
  {
   "cell_type": "code",
   "execution_count": 12,
   "metadata": {},
   "outputs": [],
   "source": [
    "def sample(bag, n=10):\n",
    "    \"Sample a random n-word sentence from the model described by the bag of words.\"\n",
    "    return ' '.join(random.choice(bag) for _ in range(n))"
   ]
  },
  {
   "cell_type": "code",
   "execution_count": 13,
   "metadata": {},
   "outputs": [
    {
     "data": {
      "text/plain": [
       "'a crushed know unhealthy bit was of had and a'"
      ]
     },
     "execution_count": 13,
     "metadata": {},
     "output_type": "execute_result"
    }
   ],
   "source": [
    "sample(WORDS)"
   ]
  },
  {
   "cell_type": "markdown",
   "metadata": {},
   "source": [
    "Another representation for a bag of words is a `Counter`, which is a dictionary of `{'word': count}` pairs.  For example,"
   ]
  },
  {
   "cell_type": "code",
   "execution_count": 14,
   "metadata": {},
   "outputs": [
    {
     "data": {
      "text/plain": [
       "Counter({'is': 2, 'this': 1, 'a': 2, 'test': 2, 'it': 1})"
      ]
     },
     "execution_count": 14,
     "metadata": {},
     "output_type": "execute_result"
    }
   ],
   "source": [
    "Counter(tokens('Is this a test? It is a test!'))"
   ]
  },
  {
   "cell_type": "markdown",
   "metadata": {},
   "source": [
    "A `Counter` is like a `dict`, but with a few extra methods.  Let's make a `Counter` for the big list of `WORDS` and get a feel for what's there:"
   ]
  },
  {
   "cell_type": "code",
   "execution_count": 16,
   "metadata": {},
   "outputs": [
    {
     "name": "stdout",
     "output_type": "stream",
     "text": [
      "[('the', 80030), ('of', 40025), ('and', 38313), ('to', 28766), ('in', 22050), ('a', 21155), ('that', 12512), ('he', 12401), ('was', 11410), ('it', 10681)]\n"
     ]
    }
   ],
   "source": [
    "COUNTS = Counter(WORDS)\n",
    "\n",
    "print (COUNTS.most_common(10))"
   ]
  },
  {
   "cell_type": "code",
   "execution_count": 18,
   "metadata": {},
   "outputs": [
    {
     "name": "stdout",
     "output_type": "stream",
     "text": [
      "80030 the\n",
      "83 rare\n",
      "38313 and\n",
      "0 neverbeforeseen\n",
      "460 words\n"
     ]
    }
   ],
   "source": [
    "for w in tokens('the rare and neverbeforeseen words'):\n",
    "    print (COUNTS[w], w)"
   ]
  },
  {
   "cell_type": "markdown",
   "metadata": {},
   "source": [
    "In 1935, linguist George Zipf noted that in any big text, the *n*th most frequent word appears with a frequency of about 1/*n* of the most frequent word. He get's credit for *Zipf's Law*, even though Felix Auerbach made the same observation in 1913.  If we plot the frequency of words, most common first, on a log-log plot, they should come out as a straight line if Zipf's Law holds.  Here we see that it is a fairly close fit:"
   ]
  },
  {
   "cell_type": "code",
   "execution_count": 19,
   "metadata": {},
   "outputs": [
    {
     "data": {
      "image/png": "[encoded data removed]",
      "text/plain": [
       "<Figure size 432x288 with 1 Axes>"
      ]
     },
     "metadata": {
      "needs_background": "light"
     },
     "output_type": "display_data"
    }
   ],
   "source": [
    "M = COUNTS['the']\n",
    "yscale('log'); xscale('log'); title('Frequency of n-th most frequent word and 1/n line.')\n",
    "plot([c for (w, c) in COUNTS.most_common()])\n",
    "plot([M/i for i in range(1, len(COUNTS)+1)]);"
   ]
  },
  {
   "cell_type": "markdown",
   "metadata": {},
   "source": [
    "(3) Task: Spelling Correction\n",
    "========\n",
    "\n",
    "Given a word *w*, find the most likely correction *c* = `correct(`*w*`)`.\n",
    "\n",
    "**Approach:** Try all candidate words *c* that are known words that are near *w*.  Choose the most likely one.\n",
    "\n",
    "How to balance *near* and *likely*?\n",
    "\n",
    "For now, in a trivial way: always prefer nearer, but when there is a tie on nearness, use the word with the highest `WORDS` count.  Measure nearness by *edit distance*: the minimum number of deletions, transpositions, insertions, or replacements of characters. By trial and error, we determine that going out to edit distance 2 will give us reasonable results.  Then we can define `correct(`*w*`)`:\n",
    "        \n",
    "        \n"
   ]
  },
  {
   "cell_type": "code",
   "execution_count": 20,
   "metadata": {},
   "outputs": [],
   "source": [
    "def correct(word):\n",
    "    \"Find the best spelling correction for this word.\"\n",
    "    # Prefer edit distance 0, then 1, then 2; otherwise default to word itself.\n",
    "    candidates = (known(edits0(word)) or \n",
    "                  known(edits1(word)) or \n",
    "                  known(edits2(word)) or \n",
    "                  [word])\n",
    "    return max(candidates, key=COUNTS.get)"
   ]
  },
  {
   "cell_type": "markdown",
   "metadata": {},
   "source": [
    "The functions `known` and `edits0` are easy; and `edits2` is easy if we assume we have `edits1`:"
   ]
  },
  {
   "cell_type": "code",
   "execution_count": 21,
   "metadata": {},
   "outputs": [],
   "source": [
    "def known(words):\n",
    "    \"Return the subset of words that are actually in the dictionary.\"\n",
    "    return {w for w in words if w in COUNTS}\n",
    "\n",
    "def edits0(word): \n",
    "    \"Return all strings that are zero edits away from word (i.e., just word itself).\"\n",
    "    return {word}\n",
    "\n",
    "def edits2(word):\n",
    "    \"Return all strings that are two edits away from this word.\"\n",
    "    return {e2 for e1 in edits1(word) for e2 in edits1(e1)}"
   ]
  },
  {
   "cell_type": "markdown",
   "metadata": {},
   "source": [
    "Now for `edits1(word)`: the set of candidate words that are one edit away. For example, given `\"wird\"`, this would include `\"weird\"` (inserting an `e`) and `\"word\"` (replacing a `i` with a `o`), and also `\"iwrd\"` (transposing `w` and `i`; then `known` can be used to filter this out of the set of final candidates). How could we get them?  One way is to *split* the original word in all possible places, each split forming a *pair* of words, `(a, b)`, before and after the place, and at each place, either delete, transpose, replace, or insert a letter:\n",
    "\n",
    "<table>\n",
    "  <tr><td> pairs: <td><tt> Ø+wird <td><tt> w+ird <td><tt> wi+rd <td><tt>wir+d<td><tt>wird+Ø<td><i>Notes:</i><tt> (<i>a</i>, <i>b</i>)</tt> pair</i>\n",
    "  <tr><td> deletions: <td><tt>Ø+ird<td><tt> w+rd<td><tt> wi+d<td><tt> wir+Ø<td><td><i>Delete first char of b</i>\n",
    "  <tr><td> transpositions: <td><tt>Ø+iwrd<td><tt> w+rid<td><tt> wi+dr</tt><td><td><td><i>Swap first two chars of b\n",
    "  <tr><td> replacements: <td><tt>Ø+?ird<td><tt> w+?rd<td><tt> wi+?d<td><tt> wir+?</tt><td><td><i>Replace char at start of b\n",
    "  <tr><td> insertions: <td><tt>Ø+?+wird<td><tt> w+?+ird<td><tt> wi+?+rd<td><tt> wir+?+d<td><tt> wird+?+Ø</tt><td><i>Insert char between a and b\n",
    "</table>"
   ]
  },
  {
   "cell_type": "code",
   "execution_count": 22,
   "metadata": {},
   "outputs": [],
   "source": [
    "def edits1(word):\n",
    "    \"Return all strings that are one edit away from this word.\"\n",
    "    pairs      = splits(word)\n",
    "    deletes    = [a+b[1:]           for (a, b) in pairs if b]\n",
    "    transposes = [a+b[1]+b[0]+b[2:] for (a, b) in pairs if len(b) > 1]\n",
    "    replaces   = [a+c+b[1:]         for (a, b) in pairs for c in alphabet if b]\n",
    "    inserts    = [a+c+b             for (a, b) in pairs for c in alphabet]\n",
    "    return set(deletes + transposes + replaces + inserts)\n",
    "\n",
    "def splits(word):\n",
    "    \"Return a list of all possible (first, rest) pairs that comprise word.\"\n",
    "    return [(word[:i], word[i:]) \n",
    "            for i in range(len(word)+1)]\n",
    "\n",
    "alphabet = 'abcdefghijklmnopqrstuvwxyz'"
   ]
  },
  {
   "cell_type": "code",
   "execution_count": 23,
   "metadata": {},
   "outputs": [
    {
     "data": {
      "text/plain": [
       "[('', 'wird'), ('w', 'ird'), ('wi', 'rd'), ('wir', 'd'), ('wird', '')]"
      ]
     },
     "execution_count": 23,
     "metadata": {},
     "output_type": "execute_result"
    }
   ],
   "source": [
    "splits('wird')"
   ]
  },
  {
   "cell_type": "code",
   "execution_count": 25,
   "metadata": {},
   "outputs": [
    {
     "name": "stdout",
     "output_type": "stream",
     "text": [
      "{'wird'}\n"
     ]
    }
   ],
   "source": [
    "print (edits0('wird'))"
   ]
  },
  {
   "cell_type": "code",
   "execution_count": 26,
   "metadata": {},
   "outputs": [
    {
     "name": "stdout",
     "output_type": "stream",
     "text": [
      "{'hird', 'wlrd', 'wtird', 'wirf', 'wifrd', 'wirdx', 'wbird', 'wyrd', 'wirn', 'lwird', 'dird', 'wirmd', 'wirq', 'zird', 'wixd', 'whird', 'wiord', 'owird', 'wiro', 'vwird', 'wxird', 'wmird', 'pird', 'wrd', 'wirad', 'kird', 'cird', 'wrid', 'wirdg', 'gwird', 'wird', 'wirld', 'zwird', 'oird', 'wirfd', 'wir', 'swird', 'wirdq', 'wirdr', 'whrd', 'winrd', 'wirdf', 'wirdl', 'wqird', 'wgrd', 'wyird', 'fird', 'wikrd', 'wirm', 'wirdm', 'wirdo', 'woird', 'wlird', 'wirpd', 'wirqd', 'wirt', 'bwird', 'wiri', 'wirdy', 'wirw', 'mird', 'wibrd', 'wizd', 'wirda', 'wirdn', 'jird', 'wirg', 'wirdk', 'wcrd', 'iird', 'wira', 'aird', 'wijd', 'iwird', 'ird', 'wfrd', 'wisrd', 'wirhd', 'wivrd', 'wcird', 'wibd', 'rwird', 'weird', 'wirid', 'wjrd', 'wixrd', 'wirkd', 'wild', 'dwird', 'jwird', 'wiqrd', 'fwird', 'witd', 'ewird', 'wirv', 'wirwd', 'widd', 'wirsd', 'twird', 'iwrd', 'wirk', 'wtrd', 'xwird', 'wirdt', 'qird', 'werd', 'wxrd', 'wirp', 'wirdp', 'wirz', 'wiru', 'wirdi', 'wisd', 'wirvd', 'witrd', 'wgird', 'wqrd', 'wizrd', 'wrrd', 'wvird', 'wirdh', 'wircd', 'wirdw', 'wwrd', 'wirx', 'widrd', 'xird', 'wirdb', 'wpird', 'wdird', 'wirj', 'wiard', 'wid', 'wirrd', 'wurd', 'wiwrd', 'wihd', 'wirzd', 'ward', 'wiqd', 'wmrd', 'wzrd', 'wiryd', 'wirtd', 'wiyd', 'wirb', 'qwird', 'wirbd', 'wnrd', 'wirud', 'sird', 'wirde', 'widr', 'tird', 'wsrd', 'wfird', 'wsird', 'wuird', 'vird', 'wire', 'bird', 'nird', 'wiurd', 'wiry', 'wivd', 'wiprd', 'wired', 'yird', 'wiad', 'wiud', 'wirl', 'mwird', 'wigrd', 'wiod', 'wirh', 'lird', 'wkird', 'wirnd', 'uird', 'wimrd', 'wirdu', 'wihrd', 'wind', 'waird', 'wijrd', 'pwird', 'wirxd', 'wirc', 'wiwd', 'wied', 'wimd', 'wirgd', 'wirdz', 'wzird', 'wierd', 'wirds', 'wiid', 'wirs', 'wigd', 'hwird', 'gird', 'wnird', 'wikd', 'wilrd', 'wirdj', 'wifd', 'wprd', 'wicrd', 'wrird', 'wdrd', 'wirod', 'wvrd', 'wiird', 'uwird', 'wiyrd', 'wirr', 'cwird', 'wirdc', 'wbrd', 'wwird', 'kwird', 'word', 'wkrd', 'rird', 'ywird', 'eird', 'wirjd', 'wjird', 'nwird', 'wipd', 'awird', 'wirdd', 'wicd', 'wirdv'}\n"
     ]
    }
   ],
   "source": [
    "print (edits1('wird'))"
   ]
  },
  {
   "cell_type": "code",
   "execution_count": 27,
   "metadata": {},
   "outputs": [
    {
     "name": "stdout",
     "output_type": "stream",
     "text": [
      "24254\n"
     ]
    }
   ],
   "source": [
    "print (len(edits2('wird')))"
   ]
  },
  {
   "cell_type": "code",
   "execution_count": 31,
   "metadata": {},
   "outputs": [
    {
     "name": "stdout",
     "output_type": "stream",
     "text": [
      "<map object at 0x7f7f8678bf60>\n"
     ]
    }
   ],
   "source": [
    "print(map(correct, tokens('Speling errurs in somethink. Whutever; unusuel misteakes everyware?')))"
   ]
  },
  {
   "cell_type": "markdown",
   "metadata": {},
   "source": [
    "Can we make the output prettier than that?"
   ]
  },
  {
   "cell_type": "code",
   "execution_count": 32,
   "metadata": {},
   "outputs": [],
   "source": [
    "def correct_text(text):\n",
    "    \"Correct all the words within a text, returning the corrected text.\"\n",
    "    return re.sub('[a-zA-Z]+', correct_match, text)\n",
    "\n",
    "def correct_match(match):\n",
    "    \"Spell-correct word in match, and preserve proper upper/lower/title case.\"\n",
    "    word = match.group()\n",
    "    return case_of(word)(correct(word.lower()))\n",
    "\n",
    "def case_of(text):\n",
    "    \"Return the case-function appropriate for text: upper, lower, title, or just str.\"\n",
    "    return (str.upper if text.isupper() else\n",
    "            str.lower if text.islower() else\n",
    "            str.title if text.istitle() else\n",
    "            str)"
   ]
  },
  {
   "cell_type": "code",
   "execution_count": 33,
   "metadata": {},
   "outputs": [
    {
     "data": {
      "text/plain": [
       "<map at 0x7f7f8678b2b0>"
      ]
     },
     "execution_count": 33,
     "metadata": {},
     "output_type": "execute_result"
    }
   ],
   "source": [
    "map(case_of, ['UPPER', 'lower', 'Title', 'CamelCase'])"
   ]
  },
  {
   "cell_type": "code",
   "execution_count": 34,
   "metadata": {},
   "outputs": [
    {
     "data": {
      "text/plain": [
       "'Spelling Errors IN something. Whatever; unusual mistakes?'"
      ]
     },
     "execution_count": 34,
     "metadata": {},
     "output_type": "execute_result"
    }
   ],
   "source": [
    "correct_text('Speling Errurs IN somethink. Whutever; unusuel misteakes?')"
   ]
  },
  {
   "cell_type": "code",
   "execution_count": 35,
   "metadata": {},
   "outputs": [
    {
     "data": {
      "text/plain": [
       "'Audience says: tumbler ...'"
      ]
     },
     "execution_count": 35,
     "metadata": {},
     "output_type": "execute_result"
    }
   ],
   "source": [
    "correct_text('Audiance sayzs: tumblr ...')"
   ]
  },
  {
   "cell_type": "markdown",
   "metadata": {},
   "source": [
    "So far so good.  You can probably think of a dozen ways to make this better.  Here's one: in the text \"three, too, one, blastoff!\" we might want to correct \"too\" with \"two\", even though \"too\" is in the dictionary.  We can do better if we look at a *sequence* of words, not just an individual word one at a time.  But how can we choose the best corrections of a sequence?  The ad-hoc approach worked pretty well for single words, but now we could use some real theory ..."
   ]
  },
  {
   "cell_type": "markdown",
   "metadata": {},
   "source": [
    "(4) Theory: From Counts to Probabilities of Word Sequences\n",
    "===\n",
    "\n",
    "We should be able to compute the probability of a word, $P(w)$.  We do that with the function `pdist`, which takes as input a `Counter` (hat is, a bag of words) and returns a function that acts as a probability distribution over all possible words.  In a probability distribution the probability of each word is between 0 and 1, and the sum of the probabilities is 1."
   ]
  },
  {
   "cell_type": "code",
   "execution_count": 50,
   "metadata": {},
   "outputs": [],
   "source": [
    "def pdist(counter):\n",
    "    \"Make a probability distribution, given evidence from a Counter.\"\n",
    "    N = sum(list(counter.values()))\n",
    "    return lambda x: counter[x]/N\n",
    "\n",
    "P = pdist(COUNTS)"
   ]
  },
  {
   "cell_type": "code",
   "execution_count": 48,
   "metadata": {},
   "outputs": [
    {
     "data": {
      "text/plain": [
       "Counter({'the': 80030,\n",
       "         'project': 288,\n",
       "         'gutenberg': 263,\n",
       "         'ebook': 87,\n",
       "         'of': 40025,\n",
       "         'adventures': 17,\n",
       "         'sherlock': 101,\n",
       "         'holmes': 467,\n",
       "         'by': 6738,\n",
       "         'sir': 177,\n",
       "         'arthur': 34,\n",
       "         'conan': 4,\n",
       "         'doyle': 5,\n",
       "         'in': 22050,\n",
       "         'our': 1066,\n",
       "         'series': 128,\n",
       "         'copyright': 69,\n",
       "         'laws': 233,\n",
       "         'are': 3630,\n",
       "         'changing': 44,\n",
       "         'all': 4144,\n",
       "         'over': 1282,\n",
       "         'world': 362,\n",
       "         'be': 6155,\n",
       "         'sure': 123,\n",
       "         'to': 28766,\n",
       "         'check': 38,\n",
       "         'for': 6941,\n",
       "         'your': 1279,\n",
       "         'country': 423,\n",
       "         'before': 1363,\n",
       "         'downloading': 5,\n",
       "         'or': 5352,\n",
       "         'redistributing': 7,\n",
       "         'this': 4063,\n",
       "         'any': 1204,\n",
       "         'other': 1502,\n",
       "         'header': 7,\n",
       "         'should': 1297,\n",
       "         'first': 1177,\n",
       "         'thing': 303,\n",
       "         'seen': 444,\n",
       "         'when': 2923,\n",
       "         'viewing': 7,\n",
       "         'file': 22,\n",
       "         'please': 172,\n",
       "         'do': 1503,\n",
       "         'not': 6626,\n",
       "         'remove': 53,\n",
       "         'it': 10681,\n",
       "         'change': 150,\n",
       "         'edit': 4,\n",
       "         'without': 1015,\n",
       "         'written': 117,\n",
       "         'permission': 52,\n",
       "         'read': 219,\n",
       "         'legal': 52,\n",
       "         'small': 527,\n",
       "         'print': 50,\n",
       "         'and': 38313,\n",
       "         'information': 73,\n",
       "         'about': 1497,\n",
       "         'at': 6791,\n",
       "         'bottom': 42,\n",
       "         'included': 43,\n",
       "         'is': 9774,\n",
       "         'important': 285,\n",
       "         'specific': 37,\n",
       "         'rights': 168,\n",
       "         'restrictions': 23,\n",
       "         'how': 1315,\n",
       "         'may': 2551,\n",
       "         'used': 276,\n",
       "         'you': 5622,\n",
       "         'can': 1095,\n",
       "         'also': 778,\n",
       "         'find': 294,\n",
       "         'out': 1987,\n",
       "         'make': 504,\n",
       "         'a': 21155,\n",
       "         'donation': 10,\n",
       "         'get': 468,\n",
       "         'involved': 107,\n",
       "         'welcome': 18,\n",
       "         'free': 421,\n",
       "         'plain': 108,\n",
       "         'vanilla': 6,\n",
       "         'electronic': 58,\n",
       "         'texts': 7,\n",
       "         'ebooks': 54,\n",
       "         'readable': 13,\n",
       "         'both': 529,\n",
       "         'humans': 2,\n",
       "         'computers': 7,\n",
       "         'since': 260,\n",
       "         'these': 1231,\n",
       "         'were': 4289,\n",
       "         'prepared': 138,\n",
       "         'thousands': 93,\n",
       "         'volunteers': 22,\n",
       "         'title': 39,\n",
       "         'author': 29,\n",
       "         'release': 28,\n",
       "         'date': 48,\n",
       "         'march': 135,\n",
       "         'most': 908,\n",
       "         'recently': 30,\n",
       "         'updated': 4,\n",
       "         'november': 41,\n",
       "         'edition': 21,\n",
       "         'language': 61,\n",
       "         'english': 211,\n",
       "         'character': 174,\n",
       "         'set': 325,\n",
       "         'encoding': 5,\n",
       "         'ascii': 11,\n",
       "         'start': 67,\n",
       "         'additional': 30,\n",
       "         'editing': 6,\n",
       "         'jose': 1,\n",
       "         'menendez': 1,\n",
       "         'contents': 50,\n",
       "         'i': 7687,\n",
       "         'scandal': 19,\n",
       "         'bohemia': 15,\n",
       "         'ii': 77,\n",
       "         'red': 288,\n",
       "         'headed': 37,\n",
       "         'league': 53,\n",
       "         'iii': 91,\n",
       "         'case': 438,\n",
       "         'identity': 11,\n",
       "         'iv': 55,\n",
       "         'boscombe': 16,\n",
       "         'valley': 78,\n",
       "         'mystery': 39,\n",
       "         'v': 51,\n",
       "         'five': 279,\n",
       "         'orange': 23,\n",
       "         'pips': 12,\n",
       "         'vi': 37,\n",
       "         'man': 1652,\n",
       "         'with': 9740,\n",
       "         'twisted': 21,\n",
       "         'lip': 56,\n",
       "         'vii': 34,\n",
       "         'adventure': 34,\n",
       "         'blue': 143,\n",
       "         'carbuncle': 17,\n",
       "         'viii': 39,\n",
       "         'speckled': 5,\n",
       "         'band': 54,\n",
       "         'ix': 28,\n",
       "         'engineer': 12,\n",
       "         's': 5636,\n",
       "         'thumb': 51,\n",
       "         'x': 136,\n",
       "         'noble': 48,\n",
       "         'bachelor': 18,\n",
       "         'xi': 28,\n",
       "         'beryl': 4,\n",
       "         'coronet': 29,\n",
       "         'xii': 28,\n",
       "         'copper': 26,\n",
       "         'beeches': 12,\n",
       "         'she': 3946,\n",
       "         'always': 608,\n",
       "         'woman': 325,\n",
       "         'have': 3493,\n",
       "         'seldom': 76,\n",
       "         'heard': 636,\n",
       "         'him': 5230,\n",
       "         'mention': 46,\n",
       "         'her': 5284,\n",
       "         'under': 963,\n",
       "         'name': 262,\n",
       "         'his': 10034,\n",
       "         'eyes': 939,\n",
       "         'eclipses': 2,\n",
       "         'predominates': 3,\n",
       "         'whole': 744,\n",
       "         'sex': 11,\n",
       "         'was': 11410,\n",
       "         'that': 12512,\n",
       "         'he': 12401,\n",
       "         'felt': 697,\n",
       "         'emotion': 36,\n",
       "         'akin': 14,\n",
       "         'love': 484,\n",
       "         'irene': 18,\n",
       "         'adler': 16,\n",
       "         'emotions': 10,\n",
       "         'one': 3371,\n",
       "         'particularly': 174,\n",
       "         'abhorrent': 1,\n",
       "         'cold': 257,\n",
       "         'precise': 13,\n",
       "         'but': 5653,\n",
       "         'admirably': 7,\n",
       "         'balanced': 6,\n",
       "         'mind': 341,\n",
       "         'take': 616,\n",
       "         'perfect': 39,\n",
       "         'reasoning': 41,\n",
       "         'observing': 21,\n",
       "         'machine': 39,\n",
       "         'has': 1603,\n",
       "         'as': 8064,\n",
       "         'lover': 26,\n",
       "         'would': 1953,\n",
       "         'placed': 182,\n",
       "         'himself': 1158,\n",
       "         'false': 64,\n",
       "         'position': 432,\n",
       "         'never': 593,\n",
       "         'spoke': 218,\n",
       "         'softer': 10,\n",
       "         'passions': 29,\n",
       "         'save': 110,\n",
       "         'gibe': 2,\n",
       "         'sneer': 6,\n",
       "         'they': 3938,\n",
       "         'admirable': 14,\n",
       "         'things': 321,\n",
       "         'observer': 13,\n",
       "         'excellent': 62,\n",
       "         'drawing': 240,\n",
       "         'veil': 16,\n",
       "         'from': 5709,\n",
       "         'men': 1145,\n",
       "         'motives': 14,\n",
       "         'actions': 77,\n",
       "         'trained': 23,\n",
       "         'reasoner': 6,\n",
       "         'admit': 65,\n",
       "         'such': 1436,\n",
       "         'intrusions': 1,\n",
       "         'into': 2124,\n",
       "         'own': 785,\n",
       "         'delicate': 54,\n",
       "         'finely': 11,\n",
       "         'adjusted': 16,\n",
       "         'temperament': 5,\n",
       "         'introduce': 23,\n",
       "         'distracting': 1,\n",
       "         'factor': 41,\n",
       "         'which': 4842,\n",
       "         'might': 536,\n",
       "         'throw': 48,\n",
       "         'doubt': 152,\n",
       "         'upon': 1111,\n",
       "         'mental': 37,\n",
       "         'results': 229,\n",
       "         'grit': 1,\n",
       "         'sensitive': 35,\n",
       "         'instrument': 35,\n",
       "         'crack': 20,\n",
       "         'high': 290,\n",
       "         'power': 548,\n",
       "         'lenses': 1,\n",
       "         'more': 1997,\n",
       "         'disturbing': 9,\n",
       "         'than': 1206,\n",
       "         'strong': 168,\n",
       "         'nature': 170,\n",
       "         'yet': 488,\n",
       "         'there': 2972,\n",
       "         'late': 165,\n",
       "         'dubious': 1,\n",
       "         'questionable': 3,\n",
       "         'memory': 55,\n",
       "         'had': 7383,\n",
       "         'little': 1001,\n",
       "         'lately': 22,\n",
       "         'my': 2249,\n",
       "         'marriage': 96,\n",
       "         'drifted': 5,\n",
       "         'us': 684,\n",
       "         'away': 838,\n",
       "         'each': 411,\n",
       "         'complete': 145,\n",
       "         'happiness': 143,\n",
       "         'home': 295,\n",
       "         'centred': 2,\n",
       "         'interests': 118,\n",
       "         'rise': 240,\n",
       "         'up': 2284,\n",
       "         'around': 271,\n",
       "         'who': 3050,\n",
       "         'finds': 23,\n",
       "         'master': 141,\n",
       "         'establishment': 40,\n",
       "         'sufficient': 75,\n",
       "         'absorb': 4,\n",
       "         'attention': 191,\n",
       "         'while': 768,\n",
       "         'loathed': 1,\n",
       "         'every': 650,\n",
       "         'form': 507,\n",
       "         'society': 169,\n",
       "         'bohemian': 8,\n",
       "         'soul': 168,\n",
       "         'remained': 231,\n",
       "         'lodgings': 11,\n",
       "         'baker': 49,\n",
       "         'street': 180,\n",
       "         'buried': 21,\n",
       "         'among': 451,\n",
       "         'old': 1180,\n",
       "         'books': 59,\n",
       "         'alternating': 2,\n",
       "         'week': 95,\n",
       "         'between': 654,\n",
       "         'cocaine': 4,\n",
       "         'ambition': 13,\n",
       "         'drowsiness': 4,\n",
       "         'drug': 21,\n",
       "         'fierce': 12,\n",
       "         'energy': 45,\n",
       "         'keen': 32,\n",
       "         'still': 922,\n",
       "         'ever': 274,\n",
       "         'deeply': 77,\n",
       "         'attracted': 36,\n",
       "         'study': 144,\n",
       "         'crime': 61,\n",
       "         'occupied': 116,\n",
       "         'immense': 77,\n",
       "         'faculties': 8,\n",
       "         'extraordinary': 74,\n",
       "         'powers': 149,\n",
       "         'observation': 39,\n",
       "         'following': 208,\n",
       "         'those': 1201,\n",
       "         'clues': 3,\n",
       "         'clearing': 29,\n",
       "         'mysteries': 9,\n",
       "         'been': 2599,\n",
       "         'abandoned': 72,\n",
       "         'hopeless': 17,\n",
       "         'official': 91,\n",
       "         'police': 94,\n",
       "         'time': 1529,\n",
       "         'some': 1536,\n",
       "         'vague': 39,\n",
       "         'account': 177,\n",
       "         'doings': 11,\n",
       "         'summons': 11,\n",
       "         'odessa': 3,\n",
       "         'trepoff': 1,\n",
       "         'murder': 30,\n",
       "         'singular': 36,\n",
       "         'tragedy': 9,\n",
       "         'atkinson': 1,\n",
       "         'brothers': 50,\n",
       "         'trincomalee': 1,\n",
       "         'finally': 156,\n",
       "         'mission': 34,\n",
       "         'accomplished': 39,\n",
       "         'so': 3017,\n",
       "         'delicately': 3,\n",
       "         'successfully': 25,\n",
       "         'reigning': 3,\n",
       "         'family': 210,\n",
       "         'holland': 12,\n",
       "         'beyond': 225,\n",
       "         'signs': 98,\n",
       "         'activity': 131,\n",
       "         'however': 430,\n",
       "         'merely': 189,\n",
       "         'shared': 25,\n",
       "         'readers': 11,\n",
       "         'daily': 44,\n",
       "         'press': 81,\n",
       "         'knew': 496,\n",
       "         'former': 177,\n",
       "         'friend': 283,\n",
       "         'companion': 81,\n",
       "         'night': 385,\n",
       "         'on': 6643,\n",
       "         'twentieth': 19,\n",
       "         'returning': 68,\n",
       "         'journey': 69,\n",
       "         'patient': 383,\n",
       "         'now': 1697,\n",
       "         'returned': 194,\n",
       "         'civil': 177,\n",
       "         'practice': 95,\n",
       "         'way': 859,\n",
       "         'led': 196,\n",
       "         'me': 1920,\n",
       "         'through': 815,\n",
       "         'passed': 367,\n",
       "         'well': 1198,\n",
       "         'remembered': 120,\n",
       "         'door': 498,\n",
       "         'must': 955,\n",
       "         'associated': 196,\n",
       "         'wooing': 2,\n",
       "         'dark': 181,\n",
       "         'incidents': 14,\n",
       "         'scarlet': 22,\n",
       "         'seized': 114,\n",
       "         'desire': 96,\n",
       "         'see': 1101,\n",
       "         'again': 866,\n",
       "         'know': 1048,\n",
       "         'employing': 7,\n",
       "         'rooms': 86,\n",
       "         'brilliantly': 5,\n",
       "         'lit': 74,\n",
       "         'even': 946,\n",
       "         'looked': 760,\n",
       "         'saw': 599,\n",
       "         'tall': 74,\n",
       "         'spare': 27,\n",
       "         'figure': 103,\n",
       "         'pass': 154,\n",
       "         'twice': 84,\n",
       "         'silhouette': 1,\n",
       "         'against': 660,\n",
       "         'blind': 23,\n",
       "         'pacing': 26,\n",
       "         'room': 960,\n",
       "         'swiftly': 38,\n",
       "         'eagerly': 39,\n",
       "         'head': 725,\n",
       "         'sunk': 27,\n",
       "         'chest': 81,\n",
       "         'hands': 455,\n",
       "         'clasped': 11,\n",
       "         'behind': 401,\n",
       "         'mood': 51,\n",
       "         'habit': 55,\n",
       "         'attitude': 72,\n",
       "         'manner': 135,\n",
       "         'told': 490,\n",
       "         'their': 2955,\n",
       "         'story': 133,\n",
       "         'work': 382,\n",
       "         'risen': 30,\n",
       "         'created': 62,\n",
       "         'dreams': 16,\n",
       "         'hot': 119,\n",
       "         'scent': 17,\n",
       "         'new': 1211,\n",
       "         'problem': 76,\n",
       "         'rang': 29,\n",
       "         'bell': 65,\n",
       "         'shown': 113,\n",
       "         'chamber': 35,\n",
       "         'formerly': 77,\n",
       "         'part': 704,\n",
       "         'effusive': 2,\n",
       "         'glad': 150,\n",
       "         'think': 557,\n",
       "         'hardly': 173,\n",
       "         'word': 298,\n",
       "         'spoken': 92,\n",
       "         'kindly': 86,\n",
       "         'eye': 110,\n",
       "         'waved': 29,\n",
       "         'an': 3423,\n",
       "         'armchair': 49,\n",
       "         'threw': 96,\n",
       "         'across': 222,\n",
       "         'cigars': 7,\n",
       "         'indicated': 88,\n",
       "         'spirit': 167,\n",
       "         'gasogene': 1,\n",
       "         'corner': 128,\n",
       "         'then': 1558,\n",
       "         'stood': 383,\n",
       "         'fire': 274,\n",
       "         'introspective': 3,\n",
       "         'fashion': 49,\n",
       "         'wedlock': 1,\n",
       "         'suits': 8,\n",
       "         'remarked': 169,\n",
       "         'watson': 83,\n",
       "         'put': 435,\n",
       "         'seven': 132,\n",
       "         'half': 318,\n",
       "         'pounds': 26,\n",
       "         'answered': 226,\n",
       "         'indeed': 139,\n",
       "         'thought': 902,\n",
       "         'just': 767,\n",
       "         'trifle': 11,\n",
       "         'fancy': 50,\n",
       "         'observe': 37,\n",
       "         'did': 1875,\n",
       "         'tell': 492,\n",
       "         'intended': 58,\n",
       "         'go': 905,\n",
       "         'harness': 27,\n",
       "         'deduce': 14,\n",
       "         'getting': 92,\n",
       "         'yourself': 162,\n",
       "         'very': 1340,\n",
       "         'wet': 60,\n",
       "         'clumsy': 8,\n",
       "         'careless': 14,\n",
       "         'servant': 46,\n",
       "         'girl': 166,\n",
       "         'dear': 449,\n",
       "         'said': 3464,\n",
       "         'too': 548,\n",
       "         'much': 671,\n",
       "         'certainly': 119,\n",
       "         'burned': 77,\n",
       "         'lived': 113,\n",
       "         'few': 458,\n",
       "         'centuries': 12,\n",
       "         'ago': 108,\n",
       "         'true': 205,\n",
       "         'walk': 75,\n",
       "         'thursday': 7,\n",
       "         'came': 979,\n",
       "         'dreadful': 68,\n",
       "         'mess': 10,\n",
       "         'changed': 134,\n",
       "         'clothes': 62,\n",
       "         't': 1318,\n",
       "         'imagine': 96,\n",
       "         'mary': 705,\n",
       "         'jane': 2,\n",
       "         'incorrigible': 2,\n",
       "         'wife': 367,\n",
       "         'given': 364,\n",
       "         'notice': 98,\n",
       "         'fail': 40,\n",
       "         'chuckled': 7,\n",
       "         'rubbed': 32,\n",
       "         'long': 991,\n",
       "         'nervous': 54,\n",
       "         'together': 260,\n",
       "         'simplicity': 30,\n",
       "         'itself': 273,\n",
       "         'inside': 43,\n",
       "         'left': 834,\n",
       "         'shoe': 11,\n",
       "         'where': 977,\n",
       "         'firelight': 2,\n",
       "         'strikes': 19,\n",
       "         'leather': 35,\n",
       "         'scored': 4,\n",
       "         'six': 176,\n",
       "         'almost': 325,\n",
       "         'parallel': 17,\n",
       "         'cuts': 5,\n",
       "         'obviously': 38,\n",
       "         'caused': 102,\n",
       "         'someone': 160,\n",
       "         'carelessly': 14,\n",
       "         'scraped': 21,\n",
       "         'round': 556,\n",
       "         'edges': 70,\n",
       "         'sole': 70,\n",
       "         'order': 404,\n",
       "         'crusted': 2,\n",
       "         'mud': 36,\n",
       "         'hence': 32,\n",
       "         'double': 49,\n",
       "         'deduction': 12,\n",
       "         'vile': 16,\n",
       "         'weather': 42,\n",
       "         'malignant': 88,\n",
       "         'boot': 22,\n",
       "         'slitting': 2,\n",
       "         'specimen': 14,\n",
       "         'london': 76,\n",
       "         'slavey': 1,\n",
       "         'if': 2373,\n",
       "         'gentleman': 99,\n",
       "         'walks': 10,\n",
       "         'smelling': 5,\n",
       "         'iodoform': 43,\n",
       "         'black': 235,\n",
       "         'mark': 38,\n",
       "         'nitrate': 7,\n",
       "         'silver': 128,\n",
       "         'right': 710,\n",
       "         'forefinger': 7,\n",
       "         'bulge': 2,\n",
       "         'side': 511,\n",
       "         'top': 42,\n",
       "         'hat': 105,\n",
       "         'show': 213,\n",
       "         'secreted': 2,\n",
       "         'stethoscope': 2,\n",
       "         'dull': 74,\n",
       "         'pronounce': 9,\n",
       "         'active': 96,\n",
       "         'member': 50,\n",
       "         'medical': 22,\n",
       "         'profession': 22,\n",
       "         'could': 1700,\n",
       "         'help': 230,\n",
       "         'laughing': 115,\n",
       "         'ease': 44,\n",
       "         'explained': 60,\n",
       "         'process': 219,\n",
       "         'hear': 183,\n",
       "         'give': 523,\n",
       "         'reasons': 64,\n",
       "         'appears': 108,\n",
       "         'ridiculously': 1,\n",
       "         'simple': 139,\n",
       "         'easily': 114,\n",
       "         'myself': 227,\n",
       "         'though': 650,\n",
       "         'successive': 17,\n",
       "         'instance': 50,\n",
       "         'am': 746,\n",
       "         'baffled': 8,\n",
       "         'until': 325,\n",
       "         'explain': 123,\n",
       "         'believe': 183,\n",
       "         'good': 744,\n",
       "         'yours': 46,\n",
       "         'quite': 502,\n",
       "         'lighting': 16,\n",
       "         'cigarette': 6,\n",
       "         'throwing': 46,\n",
       "         'down': 1128,\n",
       "         'distinction': 19,\n",
       "         'clear': 233,\n",
       "         'example': 286,\n",
       "         'frequently': 218,\n",
       "         'steps': 188,\n",
       "         'lead': 137,\n",
       "         'hall': 83,\n",
       "         'often': 443,\n",
       "         'hundreds': 48,\n",
       "         'times': 236,\n",
       "         'many': 609,\n",
       "         'don': 581,\n",
       "         'observed': 131,\n",
       "         'point': 223,\n",
       "         'seventeen': 10,\n",
       "         'because': 630,\n",
       "         'interested': 65,\n",
       "         'problems': 78,\n",
       "         'enough': 175,\n",
       "         'chronicle': 7,\n",
       "         'two': 1138,\n",
       "         'trifling': 12,\n",
       "         'experiences': 11,\n",
       "         'sheet': 29,\n",
       "         'thick': 77,\n",
       "         'pink': 27,\n",
       "         'tinted': 9,\n",
       "         'notepaper': 2,\n",
       "         'lying': 118,\n",
       "         'open': 325,\n",
       "         'table': 296,\n",
       "         'last': 565,\n",
       "         'post': 117,\n",
       "         'aloud': 28,\n",
       "         'note': 115,\n",
       "         'undated': 1,\n",
       "         'either': 293,\n",
       "         'signature': 9,\n",
       "         'address': 76,\n",
       "         'will': 1577,\n",
       "         'call': 197,\n",
       "         'quarter': 46,\n",
       "         'eight': 128,\n",
       "         'o': 257,\n",
       "         'clock': 120,\n",
       "         'desires': 22,\n",
       "         'consult': 19,\n",
       "         'matter': 365,\n",
       "         'deepest': 15,\n",
       "         'moment': 487,\n",
       "         'recent': 54,\n",
       "         'services': 38,\n",
       "         'royal': 111,\n",
       "         'houses': 117,\n",
       "         'europe': 153,\n",
       "         'safely': 11,\n",
       "         'trusted': 16,\n",
       "         'matters': 136,\n",
       "         'importance': 117,\n",
       "         'exaggerated': 28,\n",
       "         'we': 1906,\n",
       "         'quarters': 72,\n",
       "         'received': 280,\n",
       "         'hour': 157,\n",
       "         'amiss': 6,\n",
       "         'visitor': 74,\n",
       "         'wear': 30,\n",
       "         'mask': 12,\n",
       "         'what': 3011,\n",
       "         'means': 253,\n",
       "         'no': 2348,\n",
       "         'data': 17,\n",
       "         'capital': 144,\n",
       "         'mistake': 39,\n",
       "         'theorise': 1,\n",
       "         'insensibly': 2,\n",
       "         'begins': 47,\n",
       "         'twist': 14,\n",
       "         'facts': 72,\n",
       "         'suit': 25,\n",
       "         'theories': 21,\n",
       "         'instead': 137,\n",
       "         'carefully': 72,\n",
       "         'examined': 49,\n",
       "         'writing': 69,\n",
       "         'paper': 177,\n",
       "         'wrote': 149,\n",
       "         'presumably': 8,\n",
       "         'endeavouring': 8,\n",
       "         'imitate': 7,\n",
       "         'processes': 35,\n",
       "         'bought': 55,\n",
       "         'crown': 61,\n",
       "         'packet': 11,\n",
       "         'peculiarly': 14,\n",
       "         'stiff': 20,\n",
       "         'peculiar': 84,\n",
       "         'hold': 114,\n",
       "         'light': 278,\n",
       "         'large': 483,\n",
       "         'e': 136,\n",
       "         'g': 56,\n",
       "         'p': 66,\n",
       "         'woven': 5,\n",
       "         'texture': 6,\n",
       "         'asked': 777,\n",
       "         'maker': 4,\n",
       "         'monogram': 4,\n",
       "         'rather': 219,\n",
       "         'stands': 19,\n",
       "         'gesellschaft': 1,\n",
       "         'german': 196,\n",
       "         'company': 192,\n",
       "         'customary': 19,\n",
       "         'contraction': 61,\n",
       "         'like': 1080,\n",
       "         'co': 30,\n",
       "         'course': 389,\n",
       "         'papier': 1,\n",
       "         'eg': 1,\n",
       "         'let': 506,\n",
       "         'glance': 91,\n",
       "         'continental': 46,\n",
       "         'gazetteer': 1,\n",
       "         'took': 573,\n",
       "         'heavy': 139,\n",
       "         'brown': 71,\n",
       "         'volume': 30,\n",
       "         'shelves': 3,\n",
       "         'eglow': 1,\n",
       "         'eglonitz': 1,\n",
       "         'here': 691,\n",
       "         'egria': 1,\n",
       "         'speaking': 185,\n",
       "         'far': 408,\n",
       "         'carlsbad': 1,\n",
       "         'remarkable': 77,\n",
       "         'being': 918,\n",
       "         'scene': 49,\n",
       "         'death': 330,\n",
       "         'wallenstein': 1,\n",
       "         'its': 1635,\n",
       "         'numerous': 50,\n",
       "         'glass': 116,\n",
       "         'factories': 29,\n",
       "         'mills': 39,\n",
       "         'ha': 75,\n",
       "         'boy': 169,\n",
       "         'sparkled': 5,\n",
       "         'sent': 319,\n",
       "         'great': 792,\n",
       "         'triumphant': 16,\n",
       "         'cloud': 30,\n",
       "         'made': 1007,\n",
       "         'precisely': 24,\n",
       "         'construction': 25,\n",
       "         'sentence': 26,\n",
       "         'frenchman': 102,\n",
       "         'russian': 461,\n",
       "         'uncourteous': 1,\n",
       "         'verbs': 1,\n",
       "         'only': 1873,\n",
       "         'remains': 73,\n",
       "         'therefore': 186,\n",
       "         'discover': 28,\n",
       "         'wanted': 213,\n",
       "         'writes': 20,\n",
       "         'prefers': 2,\n",
       "         'wearing': 87,\n",
       "         'showing': 104,\n",
       "         'face': 1125,\n",
       "         'comes': 91,\n",
       "         'mistaken': 59,\n",
       "         'resolve': 14,\n",
       "         'doubts': 39,\n",
       "         'sharp': 83,\n",
       "         'sound': 219,\n",
       "         'horses': 262,\n",
       "         'hoofs': 24,\n",
       "         'grating': 10,\n",
       "         'wheels': 47,\n",
       "         'curb': 4,\n",
       "         'followed': 329,\n",
       "         'pull': 23,\n",
       "         'whistled': 13,\n",
       "         'pair': 40,\n",
       "         'yes': 688,\n",
       "         'continued': 291,\n",
       "         'glancing': 98,\n",
       "         'window': 186,\n",
       "         'nice': 53,\n",
       "         'brougham': 4,\n",
       "         'beauties': 2,\n",
       "         'hundred': 229,\n",
       "         'fifty': 94,\n",
       "         'guineas': 3,\n",
       "         'apiece': 7,\n",
       "         'money': 326,\n",
       "         'nothing': 646,\n",
       "         'else': 201,\n",
       "         'better': 266,\n",
       "         'bit': 63,\n",
       "         'doctor': 183,\n",
       "         'stay': 74,\n",
       "         'lost': 224,\n",
       "         'boswell': 1,\n",
       "         'promises': 15,\n",
       "         'interesting': 71,\n",
       "         'pity': 75,\n",
       "         'miss': 112,\n",
       "         'client': 33,\n",
       "         'want': 323,\n",
       "         'sit': 89,\n",
       "         'best': 268,\n",
       "         'slow': 65,\n",
       "         'step': 139,\n",
       "         'stairs': 31,\n",
       "         'passage': 110,\n",
       "         'paused': 79,\n",
       "         'immediately': 182,\n",
       "         'outside': 110,\n",
       "         'loud': 64,\n",
       "         'authoritative': 2,\n",
       "         'tap': 10,\n",
       "         'come': 934,\n",
       "         'entered': 282,\n",
       "         'less': 367,\n",
       "         'feet': 179,\n",
       "         'inches': 16,\n",
       "         'height': 36,\n",
       "         'limbs': 67,\n",
       "         'hercules': 4,\n",
       "         'dress': 138,\n",
       "         'rich': 92,\n",
       "         'richness': 2,\n",
       "         'england': 311,\n",
       "         'bad': 155,\n",
       "         'taste': 23,\n",
       "         'bands': 27,\n",
       "         'astrakhan': 1,\n",
       "         'slashed': 3,\n",
       "         'sleeves': 30,\n",
       "         'fronts': 1,\n",
       "         'breasted': 1,\n",
       "         'coat': 172,\n",
       "         'deep': 215,\n",
       "         'cloak': 62,\n",
       "         'thrown': 92,\n",
       "         'shoulders': 125,\n",
       "         'lined': 32,\n",
       "         'flame': 15,\n",
       "         'coloured': 21,\n",
       "         'silk': 50,\n",
       "         'secured': 48,\n",
       "         'neck': 203,\n",
       "         'brooch': 1,\n",
       "         'consisted': 38,\n",
       "         'single': 173,\n",
       "         'flaming': 8,\n",
       "         'boots': 91,\n",
       "         'extended': 75,\n",
       "         'halfway': 19,\n",
       "         'calves': 3,\n",
       "         'trimmed': 8,\n",
       "         'tops': 3,\n",
       "         'fur': 38,\n",
       "         'completed': 25,\n",
       "         'impression': 67,\n",
       "         'barbaric': 2,\n",
       "         'opulence': 3,\n",
       "         'suggested': 69,\n",
       "         'appearance': 135,\n",
       "         'carried': 282,\n",
       "         'broad': 92,\n",
       "         'brimmed': 4,\n",
       "         'hand': 834,\n",
       "         'wore': 58,\n",
       "         'upper': 130,\n",
       "         'extending': 35,\n",
       "         'past': 223,\n",
       "         'cheekbones': 4,\n",
       "         'vizard': 1,\n",
       "         'apparently': 68,\n",
       "         'raised': 212,\n",
       "         'lower': 196,\n",
       "         'appeared': 197,\n",
       "         'hanging': 42,\n",
       "         'straight': 124,\n",
       "         'chin': 30,\n",
       "         'suggestive': 11,\n",
       "         'resolution': 57,\n",
       "         'pushed': 81,\n",
       "         'length': 63,\n",
       "         'obstinacy': 7,\n",
       "         'harsh': 22,\n",
       "         'voice': 462,\n",
       "         'strongly': 41,\n",
       "         'marked': 138,\n",
       "         'accent': 18,\n",
       "         'uncertain': 30,\n",
       "         'pray': 79,\n",
       "         'seat': 170,\n",
       "         'colleague': 7,\n",
       "         'dr': 48,\n",
       "         'occasionally': 89,\n",
       "         'cases': 453,\n",
       "         'whom': 489,\n",
       "         'honour': 16,\n",
       "         'count': 748,\n",
       "         'von': 11,\n",
       "         'kramm': 2,\n",
       "         'nobleman': 11,\n",
       "         'understand': 412,\n",
       "         'discretion': 13,\n",
       "         'trust': 68,\n",
       "         'extreme': 72,\n",
       "         'prefer': 21,\n",
       "         'communicate': 15,\n",
       "         'alone': 337,\n",
       "         'rose': 243,\n",
       "         'caught': 90,\n",
       "         'wrist': 68,\n",
       "         'back': 746,\n",
       "         'chair': 135,\n",
       "         'none': 110,\n",
       "         'say': 755,\n",
       "         'anything': 379,\n",
       "         'shrugged': 35,\n",
       "         'begin': 97,\n",
       "         'binding': 18,\n",
       "         'absolute': 56,\n",
       "         'secrecy': 18,\n",
       "         'years': 571,\n",
       "         'end': 465,\n",
       "         'present': 329,\n",
       "         'weight': 70,\n",
       "         'influence': 138,\n",
       "         'european': 99,\n",
       "         'history': 439,\n",
       "         'promise': 67,\n",
       "         'excuse': 53,\n",
       "         'strange': 220,\n",
       "         'august': 70,\n",
       "         'person': 185,\n",
       "         'employs': 2,\n",
       "         'wishes': 42,\n",
       "         'agent': 25,\n",
       "         'unknown': 87,\n",
       "         'confess': 36,\n",
       "         'once': 569,\n",
       "         'called': 450,\n",
       "         'exactly': 47,\n",
       "         'aware': 52,\n",
       "         'dryly': 5,\n",
       "         'circumstances': 107,\n",
       "         'delicacy': 11,\n",
       "         'precaution': 9,\n",
       "         'taken': 438,\n",
       "         'quench': 3,\n",
       "         'grow': 74,\n",
       "         'seriously': 63,\n",
       "         'compromise': 71,\n",
       "         'families': 45,\n",
       "         'speak': 255,\n",
       "         'plainly': 39,\n",
       "         'implicates': 5,\n",
       "         'house': 661,\n",
       "         'ormstein': 2,\n",
       "         'hereditary': 14,\n",
       "         'kings': 27,\n",
       "         'murmured': 18,\n",
       "         'settling': 16,\n",
       "         'closing': 35,\n",
       "         'glanced': 176,\n",
       "         ...})"
      ]
     },
     "execution_count": 48,
     "metadata": {},
     "output_type": "execute_result"
    }
   ],
   "source": [
    "sum(list(COUNTS.values()))\n"
   ]
  },
  {
   "cell_type": "code",
   "execution_count": 51,
   "metadata": {},
   "outputs": [
    {
     "name": "stdout",
     "output_type": "stream",
     "text": [
      "0.07240666434449033 the\n",
      "0.008842968103249388 is\n",
      "0.0008215075749693518 most\n",
      "0.0002596615352601365 common\n",
      "0.0002696137195383996 word\n",
      "0.019949605757790978 in\n",
      "0.00019090098933759167 english\n"
     ]
    }
   ],
   "source": [
    "for w in tokens('\"The\" is most common word in English'):\n",
    "    print (P(w), w)"
   ]
  },
  {
   "cell_type": "markdown",
   "metadata": {},
   "source": [
    "Now, what is the probability of a *sequence* of words?  Use the definition of a joint probability:\n",
    "\n",
    "$P(w_1 \\ldots w_n) = P(w_1) \\times P(w_2 \\mid w_1) \\times P(w_3 \\mid w_1 w_2) \\ldots  \\times \\ldots P(w_n \\mid w_1 \\ldots w_{n-1})$\n",
    "\n",
    "The *bag of words* model assumes that each word is drawn from the bag *independently* of the others.  This gives us the wrong approximation:\n",
    "    \n",
    "$P(w_1 \\ldots w_n) = P(w_1) \\times P(w_2) \\times P(w_3) \\ldots  \\times \\ldots P(w_n)$\n",
    "\n",
    "    \n",
    "<img src=\"http://upload.wikimedia.org/wikipedia/commons/thumb/a/a2/GeorgeEPBox.jpg/200px-GeorgeEPBox.jpg\"> The statistician George Box said that *All models are wrong, but some are useful.*\n",
    "    \n",
    "How can we compute $P(w_1 \\ldots w_n)$?  We'll use a different function name, `Pwords`, rather than `P`, and we compute the product of the individual probabilities:"
   ]
  },
  {
   "cell_type": "code",
   "execution_count": 61,
   "metadata": {},
   "outputs": [],
   "source": [
    "Pword=P"
   ]
  },
  {
   "cell_type": "code",
   "execution_count": 62,
   "metadata": {},
   "outputs": [],
   "source": [
    "def Pwords(words):\n",
    "    \"Probability of words, assuming each word is independent of others.\"\n",
    "    return product(Pword(w) for w in words)\n",
    "\n",
    "def product(nums):\n",
    "    \"Multiply the numbers together.  (Like `sum`, but with multiplication.)\"\n",
    "    result = 1\n",
    "    for x in nums:\n",
    "        result *= x\n",
    "    return result"
   ]
  },
  {
   "cell_type": "code",
   "execution_count": 63,
   "metadata": {},
   "outputs": [
    {
     "name": "stdout",
     "output_type": "stream",
     "text": [
      "2.983396332800731e-11 this is a test\n",
      "8.637472023018802e-16 this is a unusual test\n",
      "0.0 this is a neverbeforeseen test\n"
     ]
    }
   ],
   "source": [
    "tests = ['this is a test', \n",
    "         'this is a unusual test',\n",
    "         'this is a neverbeforeseen test']\n",
    "for test in tests:\n",
    "    print (Pwords(tokens(test)), test)"
   ]
  },
  {
   "cell_type": "markdown",
   "metadata": {},
   "source": [
    "Yikes&mdash;it seems wrong to give a probability of 0 to the last one; it should just be very small.  We'll come back to that later.  The other probabilities seem reasonable."
   ]
  },
  {
   "cell_type": "markdown",
   "metadata": {},
   "source": [
    "(5) Task: Word Segmentation\n",
    "====\n",
    "\n",
    "**Task**: *given a sequence of characters with no spaces separating words, recover the sequence of words.*\n",
    "   \n",
    "\n",
    "Why? Languages with no word delimiters: [不带空格的词](http://translate.google.com/#auto/en/%E4%B8%8D%E5%B8%A6%E7%A9%BA%E6%A0%BC%E7%9A%84%E8%AF%8D)\n",
    "\n",
    "In English, sub-genres with no word delimiters ([spelling errors](https://www.google.com/search?q=wordstogether), [URLs](http://speedofart.com)).\n",
    "\n",
    "**Approach 1:** Enumerate all candidate segementations and choose the one with highest Pwords\n",
    "\n",
    "Problem: how many segmentations are there for an *n*-character text?\n",
    "\n",
    "**Approach 2:** Make one segmentation, into a first word and remaining characters.  If we assume words are independent \n",
    "then we can maximize the probability of the first word adjoined to the best segmentation of the remaining characters.\n",
    "    \n",
    "    assert segment('choosespain') == ['choose', 'spain']\n",
    "\n",
    "    segment('choosespain') ==\n",
    "       max(Pwords(['c'] + segment('hoosespain')),\n",
    "           Pwords(['ch'] + segment('oosespain')),\n",
    "           Pwords(['cho'] + segment('osespain')),\n",
    "           Pwords(['choo'] + segment('sespain')),\n",
    "           ...\n",
    "           Pwords(['choosespain'] + segment('')))\n",
    "       \n",
    "    \n",
    "       \n",
    "To make this somewhat efficient, we need to avoid re-computing the segmentations of the remaining characters.  This can be done explicitly by *dynamic programming* or implicitly with *memoization*. Also, we shouldn't consider all possible lengths for the first word; we can impose a maximum length.  What should it be?  A little more than the longest word seen so far."
   ]
  },
  {
   "cell_type": "code",
   "execution_count": 64,
   "metadata": {},
   "outputs": [],
   "source": [
    "def memo(f):\n",
    "    \"Memoize function f, whose args must all be hashable.\"\n",
    "    cache = {}\n",
    "    def fmemo(*args):\n",
    "        if args not in cache:\n",
    "            cache[args] = f(*args)\n",
    "        return cache[args]\n",
    "    fmemo.cache = cache\n",
    "    return fmemo"
   ]
  },
  {
   "cell_type": "code",
   "execution_count": 65,
   "metadata": {},
   "outputs": [
    {
     "data": {
      "text/plain": [
       "18"
      ]
     },
     "execution_count": 65,
     "metadata": {},
     "output_type": "execute_result"
    }
   ],
   "source": [
    "max(len(w) for w in COUNTS)"
   ]
  },
  {
   "cell_type": "code",
   "execution_count": 66,
   "metadata": {},
   "outputs": [],
   "source": [
    "def splits(text, start=0, L=20):\n",
    "    \"Return a list of all (first, rest) pairs; start <= len(first) <= L.\"\n",
    "    return [(text[:i], text[i:]) \n",
    "            for i in range(start, min(len(text), L)+1)]"
   ]
  },
  {
   "cell_type": "code",
   "execution_count": 67,
   "metadata": {},
   "outputs": [
    {
     "name": "stdout",
     "output_type": "stream",
     "text": [
      "[('', 'word'), ('w', 'ord'), ('wo', 'rd'), ('wor', 'd'), ('word', '')]\n",
      "[('r', 'eallylongtext'), ('re', 'allylongtext'), ('rea', 'llylongtext'), ('real', 'lylongtext')]\n"
     ]
    }
   ],
   "source": [
    "print (splits('word'))\n",
    "print (splits('reallylongtext', 1, 4))"
   ]
  },
  {
   "cell_type": "code",
   "execution_count": 68,
   "metadata": {},
   "outputs": [],
   "source": [
    "@memo\n",
    "def segment(text):\n",
    "    \"Return a list of words that is the most probable segmentation of text.\"\n",
    "    if not text: \n",
    "        return []\n",
    "    else:\n",
    "        candidates = ([first] + segment(rest) \n",
    "                      for (first, rest) in splits(text, 1))\n",
    "        return max(candidates, key=Pwords)"
   ]
  },
  {
   "cell_type": "code",
   "execution_count": 69,
   "metadata": {},
   "outputs": [
    {
     "data": {
      "text/plain": [
       "['choose', 'spain']"
      ]
     },
     "execution_count": 69,
     "metadata": {},
     "output_type": "execute_result"
    }
   ],
   "source": [
    "segment('choosespain')"
   ]
  },
  {
   "cell_type": "code",
   "execution_count": 72,
   "metadata": {},
   "outputs": [
    {
     "data": {
      "text/plain": [
       "['shop', 'bamboo', 'studio']"
      ]
     },
     "execution_count": 72,
     "metadata": {},
     "output_type": "execute_result"
    }
   ],
   "source": [
    "segment('shopbamboostudio')"
   ]
  },
  {
   "cell_type": "code",
   "execution_count": 73,
   "metadata": {},
   "outputs": [
    {
     "data": {
      "text/plain": [
       "['speed', 'of', 'art']"
      ]
     },
     "execution_count": 73,
     "metadata": {},
     "output_type": "execute_result"
    }
   ],
   "source": [
    "segment('speedofart')"
   ]
  },
  {
   "cell_type": "code",
   "execution_count": 74,
   "metadata": {},
   "outputs": [],
   "source": [
    "decl = ('wheninthecourseofhumaneventsitbecomesnecessaryforonepeople' +\n",
    "        'todissolvethepoliticalbandswhichhaveconnectedthemwithanother' +\n",
    "        'andtoassumeamongthepowersoftheearththeseparateandequalstation' +\n",
    "        'towhichthelawsofnatureandofnaturesgodentitlethem')"
   ]
  },
  {
   "cell_type": "code",
   "execution_count": 75,
   "metadata": {},
   "outputs": [
    {
     "name": "stdout",
     "output_type": "stream",
     "text": [
      "['when', 'in', 'the', 'course', 'of', 'human', 'events', 'it', 'becomes', 'necessary', 'for', 'one', 'people', 'to', 'dissolve', 'the', 'political', 'bands', 'which', 'have', 'connected', 'them', 'with', 'another', 'and', 'to', 'assume', 'among', 'the', 'powers', 'of', 'the', 'earth', 'the', 'separate', 'and', 'equal', 'station', 'to', 'which', 'the', 'laws', 'of', 'nature', 'and', 'of', 'natures', 'god', 'entitle', 'them']\n"
     ]
    }
   ],
   "source": [
    "print(segment(decl))"
   ]
  },
  {
   "cell_type": "code",
   "execution_count": 76,
   "metadata": {},
   "outputs": [
    {
     "data": {
      "text/plain": [
       "3.6043381425711275e-141"
      ]
     },
     "execution_count": 76,
     "metadata": {},
     "output_type": "execute_result"
    }
   ],
   "source": [
    "Pwords(segment(decl))"
   ]
  },
  {
   "cell_type": "code",
   "execution_count": 77,
   "metadata": {},
   "outputs": [
    {
     "data": {
      "text/plain": [
       "1.2991253445993077e-281"
      ]
     },
     "execution_count": 77,
     "metadata": {},
     "output_type": "execute_result"
    }
   ],
   "source": [
    "Pwords(segment(decl * 2))"
   ]
  },
  {
   "cell_type": "code",
   "execution_count": 78,
   "metadata": {},
   "outputs": [
    {
     "data": {
      "text/plain": [
       "0.0"
      ]
     },
     "execution_count": 78,
     "metadata": {},
     "output_type": "execute_result"
    }
   ],
   "source": [
    "Pwords(segment(decl * 3))"
   ]
  },
  {
   "cell_type": "code",
   "execution_count": 84,
   "metadata": {},
   "outputs": [
    {
     "data": {
      "text/plain": [
       "'wheninthecourseofhumaneventsitbecomesnecessaryforonepeopletodissolvethepoliticalbandswhichhaveconnectedthemwithanotherandtoassumeamongthepowersoftheearththeseparateandequalstationtowhichthelawsofnatureandofnaturesgodentitlethemwheninthecourseofhumaneventsitbecomesnecessaryforonepeopletodissolvethepoliticalbandswhichhaveconnectedthemwithanotherandtoassumeamongthepowersoftheearththeseparateandequalstationtowhichthelawsofnatureandofnaturesgodentitlethemwheninthecourseofhumaneventsitbecomesnecessaryforonepeopletodissolvethepoliticalbandswhichhaveconnectedthemwithanotherandtoassumeamongthepowersoftheearththeseparateandequalstationtowhichthelawsofnatureandofnaturesgodentitlethem'"
      ]
     },
     "execution_count": 84,
     "metadata": {},
     "output_type": "execute_result"
    }
   ],
   "source": [
    "(decl * 3)"
   ]
  },
  {
   "cell_type": "markdown",
   "metadata": {},
   "source": [
    "That's a problem.  We'll come back to it later."
   ]
  },
  {
   "cell_type": "code",
   "execution_count": 79,
   "metadata": {},
   "outputs": [
    {
     "data": {
      "text/plain": [
       "['small', 'and', 'insignificant']"
      ]
     },
     "execution_count": 79,
     "metadata": {},
     "output_type": "execute_result"
    }
   ],
   "source": [
    "segment('smallandinsignificant')"
   ]
  },
  {
   "cell_type": "code",
   "execution_count": 85,
   "metadata": {},
   "outputs": [
    {
     "data": {
      "text/plain": [
       "['large', 'and', 'insignificant']"
      ]
     },
     "execution_count": 85,
     "metadata": {},
     "output_type": "execute_result"
    }
   ],
   "source": [
    "segment('largeandinsignificant')"
   ]
  },
  {
   "cell_type": "code",
   "execution_count": 88,
   "metadata": {},
   "outputs": [
    {
     "name": "stdout",
     "output_type": "stream",
     "text": [
      "4.111418791681202e-10\n",
      "1.0662753919897733e-11\n"
     ]
    }
   ],
   "source": [
    "print(Pwords(['large', 'and', 'insignificant']))\n",
    "print(Pwords(['large', 'and', 'in', 'significant']))"
   ]
  },
  {
   "cell_type": "markdown",
   "metadata": {},
   "source": [
    "Summary:\n",
    "    \n",
    "- Looks pretty good!\n",
    "- The bag-of-words assumption is a limitation.\n",
    "- Recomputing Pwords on each recursive call is somewhat inefficient.\n",
    "- Numeric underflow for texts longer than 100 or so words; we'll need to use logarithms, or other tricks.\n"
   ]
  },
  {
   "cell_type": "markdown",
   "metadata": {},
   "source": [
    "# (6) Data: Mo' Data, Mo' Better"
   ]
  },
  {
   "cell_type": "markdown",
   "metadata": {},
   "source": [
    "Let's move up from millions to *billions and billions* of words.  Once we have that amount of data, we can start to look at two word sequences, without them being too sparse.  I happen to have data files available in the format of `\"word \\t count\"`, and bigram data in the form of `\"word1 word2 \\t count\"`.  Let's arrange to read them in:"
   ]
  },
  {
   "cell_type": "code",
   "execution_count": 89,
   "metadata": {},
   "outputs": [],
   "source": [
    "def load_counts(filename, sep='\\t'):\n",
    "    \"\"\"Return a Counter initialized from key-value pairs, \n",
    "    one on each line of filename.\"\"\"\n",
    "    C = Counter()\n",
    "    for line in open(filename):\n",
    "        key, count = line.split(sep)\n",
    "        C[key] = int(count)\n",
    "    return C"
   ]
  },
  {
   "cell_type": "code",
   "execution_count": 91,
   "metadata": {},
   "outputs": [],
   "source": [
    "COUNTS1 = load_counts('count_1w.txt')\n",
    "COUNTS2 = load_counts('count_2w.txt')\n",
    "\n",
    "P1w = pdist(COUNTS1)\n",
    "P2w = pdist(COUNTS2)"
   ]
  },
  {
   "cell_type": "code",
   "execution_count": 96,
   "metadata": {},
   "outputs": [
    {
     "name": "stdout",
     "output_type": "stream",
     "text": [
      "333333 588.124220187\n",
      "286358 225.955251755\n"
     ]
    }
   ],
   "source": [
    "print (len(COUNTS1), sum(list(COUNTS1.values()))/1e9)\n",
    "print (len(COUNTS2), sum(list(COUNTS2.values()))/1e9)"
   ]
  },
  {
   "cell_type": "code",
   "execution_count": 97,
   "metadata": {},
   "outputs": [
    {
     "data": {
      "text/plain": [
       "[('of the', 2766332391),\n",
       " ('in the', 1628795324),\n",
       " ('to the', 1139248999),\n",
       " ('on the', 800328815),\n",
       " ('for the', 692874802),\n",
       " ('and the', 629726893),\n",
       " ('to be', 505148997),\n",
       " ('is a', 476718990),\n",
       " ('with the', 461331348),\n",
       " ('from the', 428303219),\n",
       " ('by the', 417106045),\n",
       " ('at the', 416201497),\n",
       " ('of a', 387060526),\n",
       " ('in a', 364730082),\n",
       " ('will be', 356175009),\n",
       " ('that the', 333393891),\n",
       " ('do not', 326267941),\n",
       " ('is the', 306482559),\n",
       " ('to a', 279146624),\n",
       " ('is not', 276753375),\n",
       " ('for a', 274112498),\n",
       " ('with a', 271525283),\n",
       " ('as a', 270401798),\n",
       " ('<S> and', 261891475),\n",
       " ('of this', 258707741),\n",
       " ('<S> the', 258483382),\n",
       " ('it is', 245002494),\n",
       " ('can be', 230215143),\n",
       " ('If you', 210252670),\n",
       " ('has been', 196769958)]"
      ]
     },
     "execution_count": 97,
     "metadata": {},
     "output_type": "execute_result"
    }
   ],
   "source": [
    "COUNTS2.most_common(30)"
   ]
  },
  {
   "cell_type": "markdown",
   "metadata": {},
   "source": [
    "(7) Theory and Practice: Segmentation With Bigram Data\n",
    "===\n",
    "\n",
    "A less-wrong approximation:\n",
    "    \n",
    "$P(w_1 \\ldots w_n) = P(w_1) \\times P(w_2 \\mid w_1) \\times P(w_3 \\mid w_2) \\ldots  \\times \\ldots P(w_n \\mid w_{n-1})$\n",
    "\n",
    "This is called the *bigram* model, and is equivalent to taking a text, cutting it up into slips of paper with two words on them, and having multiple bags, and putting each slip into a bag labelled with the first word on the slip.  Then, to generate language, we choose the first word from the original single bag of words, and chose all subsequent words from the bag with the label of the previously-chosen word.\n",
    "\n",
    "Let's start by defining the probability of a single discrete event, given evidence stored in a Counter:\n",
    "\n",
    "Recall that the less-wrong bigram model approximation to English is:\n",
    "    \n",
    "$P(w_1 \\ldots w_n) = P(w_1) \\times P(w_2 \\mid w_1) \\times P(w_3 \\mid w_2) \\ldots  \\times \\ldots P(w_n \\mid w_{n-1})$\n",
    "\n",
    "where the conditional probability of a word given the previous word is defined as:\n",
    "\n",
    "$P(w_n \\mid w_{n-1}) = P(w_{n-1}w_n) / P(w_{n-1}) $"
   ]
  },
  {
   "cell_type": "code",
   "execution_count": 98,
   "metadata": {},
   "outputs": [],
   "source": [
    "def Pwords2(words, prev='<S>'):\n",
    "    \"The probability of a sequence of words, using bigram data, given prev word.\"\n",
    "    return product(cPword(w, (prev if (i == 0) else words[i-1]) )\n",
    "                   for (i, w) in enumerate(words))\n",
    "\n",
    "# Change Pwords to use P1w (the bigger dictionary) instead of Pword\n",
    "def Pwords(words):\n",
    "    \"Probability of words, assuming each word is independent of others.\"\n",
    "    return product(P1w(w) for w in words)\n",
    "\n",
    "def cPword(word, prev):\n",
    "    \"Conditional probability of word, given previous word.\"\n",
    "    bigram = prev + ' ' + word\n",
    "    if P2w(bigram) > 0 and P1w(prev) > 0:\n",
    "        return P2w(bigram) / P1w(prev)\n",
    "    else: # Average the back-off value and zero.\n",
    "        return P1w(word) / 2"
   ]
  },
  {
   "cell_type": "code",
   "execution_count": 100,
   "metadata": {},
   "outputs": [
    {
     "name": "stdout",
     "output_type": "stream",
     "text": [
      "1.7873982000630825e-10\n",
      "6.413676294377262e-08\n",
      "1.1802860036709024e-11\n"
     ]
    }
   ],
   "source": [
    "print (Pwords(tokens('this is a test')))\n",
    "print (Pwords2(tokens('this is a test')))\n",
    "print (Pwords2(tokens('is test a this')))"
   ]
  },
  {
   "cell_type": "markdown",
   "metadata": {},
   "source": [
    "To make `segment2`, we copy `segment`, and make sure to pass around the previous token, and to evaluate probabilities with `Pwords2` instead of `Pwords`."
   ]
  },
  {
   "cell_type": "code",
   "execution_count": 101,
   "metadata": {},
   "outputs": [],
   "source": [
    "@memo \n",
    "def segment2(text, prev='<S>'): \n",
    "    \"Return best segmentation of text; use bigram data.\" \n",
    "    if not text: \n",
    "        return []\n",
    "    else:\n",
    "        candidates = ([first] + segment2(rest, first) \n",
    "                      for (first, rest) in splits(text, 1))\n",
    "        return max(candidates, key=lambda words: Pwords2(words, prev))"
   ]
  },
  {
   "cell_type": "code",
   "execution_count": 103,
   "metadata": {},
   "outputs": [
    {
     "name": "stdout",
     "output_type": "stream",
     "text": [
      "['choose', 'spain']\n",
      "['speed', 'of', 'art']\n",
      "['small', 'and', 'in', 'significant']\n",
      "['large', 'and', 'in', 'significant']\n"
     ]
    }
   ],
   "source": [
    "print (segment2('choosespain'))\n",
    "print (segment2('speedofart'))\n",
    "print (segment2('smallandinsignificant'))\n",
    "print (segment2('largeandinsignificant'))"
   ]
  },
  {
   "cell_type": "code",
   "execution_count": 104,
   "metadata": {},
   "outputs": [
    {
     "name": "stdout",
     "output_type": "stream",
     "text": [
      "['far', 'out', 'in', 'the', 'uncharted', 'backwaters', 'of', 'the', 'unfashionable', 'end', 'of', 'the', 'western', 'spiral', 'arm', 'of', 'the', 'galaxy', 'lies', 'a', 'small', 'un', 'regarded', 'yellow', 'sun']\n",
      "['far', 'out', 'in', 'the', 'uncharted', 'backwaters', 'of', 'the', 'unfashionable', 'end', 'of', 'the', 'western', 'spiral', 'arm', 'of', 'the', 'galaxy', 'lies', 'a', 'small', 'un', 'regarded', 'yellow', 'sun']\n"
     ]
    }
   ],
   "source": [
    "adams = ('faroutintheunchartedbackwatersoftheunfashionableendofthewesternspiral' +\n",
    "         'armofthegalaxyliesasmallunregardedyellowsun')\n",
    "print (segment(adams))\n",
    "print (segment2(adams))"
   ]
  },
  {
   "cell_type": "code",
   "execution_count": 105,
   "metadata": {},
   "outputs": [
    {
     "data": {
      "text/plain": [
       "0.0"
      ]
     },
     "execution_count": 105,
     "metadata": {},
     "output_type": "execute_result"
    }
   ],
   "source": [
    "P1w('unregarded')"
   ]
  },
  {
   "cell_type": "code",
   "execution_count": 107,
   "metadata": {},
   "outputs": [
    {
     "name": "stdout",
     "output_type": "stream",
     "text": [
      "['a', 'dry', 'bare', 'sandy', 'hole', 'with', 'nothing', 'in', 'it', 'to', 'sitdown', 'on', 'or', 'to', 'eat']\n",
      "['a', 'dry', 'bare', 'sandy', 'hole', 'with', 'nothing', 'in', 'it', 'to', 'sit', 'down', 'on', 'or', 'to', 'eat']\n"
     ]
    }
   ],
   "source": [
    "tolkein = 'adrybaresandyholewithnothinginittositdownonortoeat'\n",
    "print (segment(tolkein))\n",
    "print (segment2(tolkein))"
   ]
  },
  {
   "cell_type": "markdown",
   "metadata": {},
   "source": [
    "Conclusion? Bigram model is a little better, but not much.  Hundreds of billions of words still not enough. (Why not trillions?) Could be made more efficient."
   ]
  },
  {
   "cell_type": "markdown",
   "metadata": {},
   "source": [
    "(8) Theory: Evaluation\n",
    "===\n",
    "\n",
    "So far, we've got an intuitive feel for how this all works.  But we don't have any solid metrics that quantify the results.  Without metrics, we can't say if we are doing well, nor if a change is an improvement. In general,\n",
    "when developing a program that relies on data to help make\n",
    "predictions, it is good practice to divide your data into three sets:\n",
    "<ol>\n",
    "  <li> <b>Training set:</b> the data used to create our spelling\n",
    "  model; this was the <tt>big.txt</tt> file.\n",
    "  <li> <b>Development set:</b> a set of input/output pairs that we can\n",
    "  use to rank the performance of our program as we are developing it.\n",
    "  <li> <b>Test set:</b> another set of input/output pairs that we use\n",
    "  to rank our program <i>after</i> we are done developing it.  The\n",
    "  development set can't be used for this purpose&mdash;once the\n",
    "  programmer has looked at the development test it is tainted, because\n",
    "  the programmer might modify the program just to pass the development\n",
    "  test.  That's why we need a separate test set that is only looked at\n",
    "  after development is done.\n",
    "</ol>\n",
    "\n",
    "For this program, the training data is the word frequency counts, the development set is the examples like `\"choosespain\"` that we have been playing with, and now we need a test set."
   ]
  },
  {
   "cell_type": "code",
   "execution_count": 110,
   "metadata": {},
   "outputs": [],
   "source": [
    "def test_segmenter(segmenter, tests):\n",
    "    \"Try segmenter on tests; report failures; return fraction correct.\"\n",
    "    return sum([test_one_segment(segmenter, test) \n",
    "               for test in tests]), len(tests)\n",
    "\n",
    "def test_one_segment(segmenter, test):\n",
    "    words = tokens(test)\n",
    "    result = segmenter(''.join(words))\n",
    "    correct = (result == words)\n",
    "    if not correct:\n",
    "        print ('expected', words)\n",
    "        print ('got     ', result)\n",
    "    return correct\n",
    "\n",
    "proverbs = (\"\"\"A little knowledge is a dangerous thing\n",
    "  A man who is his own lawyer has a fool for his client\n",
    "  All work and no play makes Jack a dull boy\n",
    "  Better to remain silent and be thought a fool that to speak and remove all doubt;\n",
    "  Do unto others as you would have them do to you\n",
    "  Early to bed and early to rise, makes a man healthy, wealthy and wise\n",
    "  Fools rush in where angels fear to tread\n",
    "  Genius is one percent inspiration, ninety-nine percent perspiration\n",
    "  If you lie down with dogs, you will get up with fleas\n",
    "  Lightning never strikes twice in the same place\n",
    "  Power corrupts; absolute power corrupts absolutely\n",
    "  Here today, gone tomorrow\n",
    "  See no evil, hear no evil, speak no evil\n",
    "  Sticks and stones may break my bones, but words will never hurt me\n",
    "  Take care of the pence and the pounds will take care of themselves\n",
    "  Take care of the sense and the sounds will take care of themselves\n",
    "  The bigger they are, the harder they fall\n",
    "  The grass is always greener on the other side of the fence\n",
    "  The more things change, the more they stay the same\n",
    "  Those who do not learn from history are doomed to repeat it\"\"\"\n",
    "  .splitlines())"
   ]
  },
  {
   "cell_type": "code",
   "execution_count": 111,
   "metadata": {},
   "outputs": [
    {
     "name": "stdout",
     "output_type": "stream",
     "text": [
      "expected ['sticks', 'and', 'stones', 'may', 'break', 'my', 'bones', 'but', 'words', 'will', 'never', 'hurt', 'me']\n",
      "got      ['stick', 'sandstones', 'may', 'break', 'my', 'bones', 'but', 'words', 'will', 'never', 'hurt', 'me']\n"
     ]
    },
    {
     "data": {
      "text/plain": [
       "(19, 20)"
      ]
     },
     "execution_count": 111,
     "metadata": {},
     "output_type": "execute_result"
    }
   ],
   "source": [
    "test_segmenter(segment, proverbs)"
   ]
  },
  {
   "cell_type": "code",
   "execution_count": 112,
   "metadata": {},
   "outputs": [
    {
     "data": {
      "text/plain": [
       "(20, 20)"
      ]
     },
     "execution_count": 112,
     "metadata": {},
     "output_type": "execute_result"
    }
   ],
   "source": [
    "test_segmenter(segment2, proverbs)"
   ]
  },
  {
   "cell_type": "markdown",
   "metadata": {},
   "source": [
    "This confirms that both segmenters are very good, and that `segment2` is slightly better. There is much more that can be done in terms of the variety of tests, and in measuring statistical significance."
   ]
  },
  {
   "cell_type": "markdown",
   "metadata": {},
   "source": [
    "(9) Theory and Practice: Smoothing\n",
    "======\n",
    "\n",
    "Let's go back to a test we did before, and add some more test cases:\n"
   ]
  },
  {
   "cell_type": "code",
   "execution_count": 113,
   "metadata": {},
   "outputs": [
    {
     "name": "stdout",
     "output_type": "stream",
     "text": [
      "1.7873982000630825e-10 this is a test\n",
      "3.7867542527781925e-15 this is a unusual test\n",
      "1.3117947423493677e-16 this is a nongovernmental test\n",
      "0.0 this is a neverbeforeseen test\n",
      "0.0 this is a zqbhjhsyefvvjqc test\n"
     ]
    }
   ],
   "source": [
    "tests = ['this is a test', \n",
    "         'this is a unusual test',\n",
    "         'this is a nongovernmental test',\n",
    "         'this is a neverbeforeseen test',\n",
    "         'this is a zqbhjhsyefvvjqc test']\n",
    "\n",
    "for test in tests:\n",
    "    print (Pwords(tokens(test)), test)"
   ]
  },
  {
   "cell_type": "markdown",
   "metadata": {},
   "source": [
    "The issue here is the finality of a probability of zero.  Out of the three 15-letter words, it turns out that \"nongovernmental\" is in the dictionary, but if it hadn't been, if somehow our corpus of words had missed it, then the probability of that whole phrase would have been zero.  It seems that is too strict; there must be some \"real\" words that are not in our dictionary, so we shouldn't give them probability zero.  There is also a question of likelyhood of being a \"real\" word.  It does seem that \"neverbeforeseen\" is more English-like than \"zqbhjhsyefvvjqc\", and so perhaps should have a higher probability.\n",
    "\n",
    "We can address this by assigning a non-zero probability to words that are not in the dictionary.  This is even more important when it comes to multi-word phrases (such as bigrams), because it is more likely that a legitimate one will appear that has not been observed before.\n",
    "\n",
    "We can think of our model as being overly spiky; it has a spike of probability mass wherever a word or phrase occurs in the corpus.  What we would like to do is *smooth* over those spikes so that we get a model that does not depend on the details of our corpus. The process of \"fixing\" the model is called *smoothing*.\n",
    "\n",
    "For example, Laplace was asked what's the probability of the sun rising tomorrow.  From data that it has risen $n/n$ times for the last *n* days, the maximum liklihood estimator is 1.  But Laplace wanted to balance the data with the possibility that tomorrow, either it will rise or it won't, so he came up with $(n + 1) / (n + 2)$.\n",
    "\n",
    "\n",
    "<img src=\"http://upload.wikimedia.org/wikipedia/commons/thumb/e/e3/Pierre-Simon_Laplace.jpg/220px-Pierre-Simon_Laplace.jpg\" height=150 width=110> \n",
    "&nbsp;\n",
    "<img src=\"http://www.hdwallpapers.in/walls/notre_dame_at_sunrise_paris_france-normal.jpg\" width=200 height=150>\n",
    "<br><i>What we know is little, and what we are ignorant of is immense.<i><br>&mdash; Pierre Simon Laplace, 1749-1827"
   ]
  },
  {
   "cell_type": "code",
   "execution_count": 207,
   "metadata": {},
   "outputs": [],
   "source": [
    "def pdist_additive_smoothed(counter, c=1):\n",
    "    \"\"\"The probability of word, given evidence from the counter.\n",
    "    Add c to the count for each item, plus the 'unknown' item.\"\"\"\n",
    "    N = sum(counter.values())          # Amount of evidence\n",
    "    Nplus = N + c * (len(counter) + 1) # Evidence plus fake observations\n",
    "    return lambda word: (counter[word] + c) / Nplus \n",
    "\n",
    "P1w = pdist_additive_smoothed(COUNTS1)"
   ]
  },
  {
   "cell_type": "code",
   "execution_count": 208,
   "metadata": {},
   "outputs": [
    {
     "data": {
      "text/plain": [
       "1.7003201005861308e-12"
      ]
     },
     "execution_count": 208,
     "metadata": {},
     "output_type": "execute_result"
    }
   ],
   "source": [
    "P1w('neverbeforeseen')"
   ]
  },
  {
   "cell_type": "markdown",
   "metadata": {},
   "source": [
    "But now there's a problem ... we now have previously-unseen words with non-zero probabilities.  And maybe 10<sup>-12</sup> is about right for words that are observed in text: that is, if I'm *reading* a new text, the probability that the next word is unknown might be around 10<sup>-12</sup>.  But if I'm *manufacturing* 20-letter sequences at random, the probability that one will be a word is much, much lower than 10<sup>-12</sup>.  \n",
    "\n",
    "Look what happens:"
   ]
  },
  {
   "cell_type": "code",
   "execution_count": 209,
   "metadata": {},
   "outputs": [
    {
     "data": {
      "text/plain": [
       "['thisisatestofsegment', 'ationofalongsequence', 'of', 'words']"
      ]
     },
     "execution_count": 209,
     "metadata": {},
     "output_type": "execute_result"
    }
   ],
   "source": [
    "segment('thisisatestofsegmentationofalongsequenceofwords')"
   ]
  },
  {
   "cell_type": "markdown",
   "metadata": {},
   "source": [
    "There are two problems:\n",
    "    \n",
    "First, we don't have a clear model of the unknown words.  We just say \"unknown\" but\n",
    "we don't distinguish likely unknown from unlikely unknown.  For example, is a 8-character unknown more likely than a 20-character unknown?\n",
    "\n",
    "Second, we don't take into account evidence from *parts* of the unknown.  For example, \n",
    "\"unglobulate\" versus \"zxfkogultae\".\n",
    "\n",
    "For our next approach, *Good - Turing* smoothing re-estimates the probability of zero-count words, based on the probability of one-count words (and can also re-estimate for higher-number counts, but that is less interesting).\n",
    "\n",
    "<img src=\"http://upload.wikimedia.org/wikipedia/en/b/b4/I._J._Good.jpg\">\n",
    "<img src=\"http://upload.wikimedia.org/wikipedia/en/thumb/c/c8/Alan_Turing_photo.jpg/200px-Alan_Turing_photo.jpg\" height=144>\n",
    "<br><i>I. J. Good (1916 - 2009) &nbsp; &nbsp; &nbsp; &nbsp; &nbsp; &nbsp; Alan Turing (1812 - 1954)</i>\n",
    "\n",
    "So, how many one-count words are there in `COUNTS`?  (There aren't any in `COUNTS1`.)  And what are the word lengths of them?  Let's find out:\n"
   ]
  },
  {
   "cell_type": "code",
   "execution_count": 121,
   "metadata": {},
   "outputs": [
    {
     "data": {
      "text/plain": [
       "[(7, 1357),\n",
       " (8, 1356),\n",
       " (9, 1175),\n",
       " (6, 1113),\n",
       " (10, 938),\n",
       " (5, 747),\n",
       " (11, 627),\n",
       " (12, 398),\n",
       " (4, 368),\n",
       " (13, 215),\n",
       " (3, 159),\n",
       " (14, 112),\n",
       " (2, 51),\n",
       " (15, 37),\n",
       " (16, 10),\n",
       " (17, 7)]"
      ]
     },
     "execution_count": 121,
     "metadata": {},
     "output_type": "execute_result"
    }
   ],
   "source": [
    "singletons = (w for w in COUNTS if COUNTS[w] == 1)\n",
    "\n",
    "lengths = list(map(len, singletons))\n",
    "\n",
    "Counter(lengths).most_common()"
   ]
  },
  {
   "cell_type": "code",
   "execution_count": 123,
   "metadata": {},
   "outputs": [
    {
     "data": {
      "text/plain": [
       "0.0012277376423275445"
      ]
     },
     "execution_count": 123,
     "metadata": {},
     "output_type": "execute_result"
    }
   ],
   "source": [
    "1357 / sum(list(COUNTS.values()))"
   ]
  },
  {
   "cell_type": "code",
   "execution_count": 122,
   "metadata": {},
   "outputs": [
    {
     "data": {
      "text/plain": [
       "[4,\n",
       " 8,\n",
       " 9,\n",
       " 10,\n",
       " 11,\n",
       " 4,\n",
       " 6,\n",
       " 7,\n",
       " 7,\n",
       " 7,\n",
       " 8,\n",
       " 11,\n",
       " 10,\n",
       " 8,\n",
       " 7,\n",
       " 6,\n",
       " 12,\n",
       " 7,\n",
       " 8,\n",
       " 12,\n",
       " 6,\n",
       " 2,\n",
       " 9,\n",
       " 5,\n",
       " 8,\n",
       " 5,\n",
       " 8,\n",
       " 11,\n",
       " 11,\n",
       " 5,\n",
       " 7,\n",
       " 9,\n",
       " 6,\n",
       " 8,\n",
       " 6,\n",
       " 6,\n",
       " 10,\n",
       " 9,\n",
       " 8,\n",
       " 6,\n",
       " 11,\n",
       " 9,\n",
       " 5,\n",
       " 5,\n",
       " 5,\n",
       " 5,\n",
       " 8,\n",
       " 12,\n",
       " 12,\n",
       " 8,\n",
       " 8,\n",
       " 7,\n",
       " 8,\n",
       " 7,\n",
       " 5,\n",
       " 9,\n",
       " 9,\n",
       " 5,\n",
       " 5,\n",
       " 9,\n",
       " 9,\n",
       " 10,\n",
       " 6,\n",
       " 7,\n",
       " 5,\n",
       " 9,\n",
       " 13,\n",
       " 5,\n",
       " 9,\n",
       " 8,\n",
       " 8,\n",
       " 11,\n",
       " 6,\n",
       " 8,\n",
       " 13,\n",
       " 8,\n",
       " 8,\n",
       " 8,\n",
       " 10,\n",
       " 7,\n",
       " 4,\n",
       " 10,\n",
       " 10,\n",
       " 12,\n",
       " 9,\n",
       " 5,\n",
       " 12,\n",
       " 8,\n",
       " 5,\n",
       " 8,\n",
       " 12,\n",
       " 11,\n",
       " 3,\n",
       " 9,\n",
       " 9,\n",
       " 6,\n",
       " 7,\n",
       " 12,\n",
       " 10,\n",
       " 5,\n",
       " 4,\n",
       " 6,\n",
       " 9,\n",
       " 8,\n",
       " 4,\n",
       " 7,\n",
       " 9,\n",
       " 9,\n",
       " 7,\n",
       " 7,\n",
       " 8,\n",
       " 7,\n",
       " 6,\n",
       " 9,\n",
       " 7,\n",
       " 6,\n",
       " 6,\n",
       " 6,\n",
       " 10,\n",
       " 7,\n",
       " 7,\n",
       " 10,\n",
       " 11,\n",
       " 4,\n",
       " 7,\n",
       " 7,\n",
       " 6,\n",
       " 7,\n",
       " 6,\n",
       " 6,\n",
       " 12,\n",
       " 11,\n",
       " 5,\n",
       " 8,\n",
       " 10,\n",
       " 10,\n",
       " 4,\n",
       " 7,\n",
       " 5,\n",
       " 6,\n",
       " 11,\n",
       " 7,\n",
       " 8,\n",
       " 9,\n",
       " 8,\n",
       " 11,\n",
       " 10,\n",
       " 9,\n",
       " 10,\n",
       " 6,\n",
       " 9,\n",
       " 10,\n",
       " 13,\n",
       " 14,\n",
       " 7,\n",
       " 9,\n",
       " 10,\n",
       " 6,\n",
       " 7,\n",
       " 12,\n",
       " 7,\n",
       " 7,\n",
       " 6,\n",
       " 4,\n",
       " 7,\n",
       " 6,\n",
       " 4,\n",
       " 13,\n",
       " 5,\n",
       " 10,\n",
       " 7,\n",
       " 6,\n",
       " 10,\n",
       " 6,\n",
       " 4,\n",
       " 6,\n",
       " 6,\n",
       " 8,\n",
       " 5,\n",
       " 5,\n",
       " 7,\n",
       " 7,\n",
       " 9,\n",
       " 7,\n",
       " 7,\n",
       " 7,\n",
       " 10,\n",
       " 9,\n",
       " 4,\n",
       " 7,\n",
       " 8,\n",
       " 12,\n",
       " 9,\n",
       " 17,\n",
       " 10,\n",
       " 6,\n",
       " 10,\n",
       " 6,\n",
       " 8,\n",
       " 10,\n",
       " 8,\n",
       " 3,\n",
       " 10,\n",
       " 7,\n",
       " 10,\n",
       " 8,\n",
       " 7,\n",
       " 11,\n",
       " 7,\n",
       " 10,\n",
       " 8,\n",
       " 8,\n",
       " 8,\n",
       " 8,\n",
       " 15,\n",
       " 8,\n",
       " 9,\n",
       " 11,\n",
       " 7,\n",
       " 4,\n",
       " 5,\n",
       " 7,\n",
       " 14,\n",
       " 8,\n",
       " 11,\n",
       " 9,\n",
       " 6,\n",
       " 6,\n",
       " 14,\n",
       " 9,\n",
       " 10,\n",
       " 10,\n",
       " 6,\n",
       " 6,\n",
       " 7,\n",
       " 8,\n",
       " 9,\n",
       " 10,\n",
       " 8,\n",
       " 7,\n",
       " 6,\n",
       " 3,\n",
       " 5,\n",
       " 5,\n",
       " 10,\n",
       " 11,\n",
       " 6,\n",
       " 7,\n",
       " 7,\n",
       " 11,\n",
       " 11,\n",
       " 6,\n",
       " 9,\n",
       " 13,\n",
       " 8,\n",
       " 6,\n",
       " 12,\n",
       " 8,\n",
       " 10,\n",
       " 12,\n",
       " 7,\n",
       " 5,\n",
       " 11,\n",
       " 9,\n",
       " 9,\n",
       " 8,\n",
       " 7,\n",
       " 6,\n",
       " 6,\n",
       " 8,\n",
       " 8,\n",
       " 13,\n",
       " 10,\n",
       " 7,\n",
       " 10,\n",
       " 11,\n",
       " 9,\n",
       " 8,\n",
       " 9,\n",
       " 7,\n",
       " 11,\n",
       " 8,\n",
       " 9,\n",
       " 9,\n",
       " 15,\n",
       " 8,\n",
       " 9,\n",
       " 7,\n",
       " 7,\n",
       " 8,\n",
       " 8,\n",
       " 8,\n",
       " 9,\n",
       " 8,\n",
       " 6,\n",
       " 6,\n",
       " 7,\n",
       " 9,\n",
       " 6,\n",
       " 8,\n",
       " 5,\n",
       " 5,\n",
       " 5,\n",
       " 7,\n",
       " 7,\n",
       " 9,\n",
       " 7,\n",
       " 11,\n",
       " 4,\n",
       " 9,\n",
       " 10,\n",
       " 9,\n",
       " 11,\n",
       " 6,\n",
       " 6,\n",
       " 7,\n",
       " 9,\n",
       " 8,\n",
       " 4,\n",
       " 4,\n",
       " 9,\n",
       " 9,\n",
       " 6,\n",
       " 8,\n",
       " 7,\n",
       " 9,\n",
       " 5,\n",
       " 5,\n",
       " 9,\n",
       " 4,\n",
       " 7,\n",
       " 8,\n",
       " 5,\n",
       " 7,\n",
       " 5,\n",
       " 6,\n",
       " 11,\n",
       " 9,\n",
       " 8,\n",
       " 11,\n",
       " 6,\n",
       " 10,\n",
       " 6,\n",
       " 7,\n",
       " 9,\n",
       " 6,\n",
       " 12,\n",
       " 7,\n",
       " 7,\n",
       " 3,\n",
       " 9,\n",
       " 10,\n",
       " 8,\n",
       " 8,\n",
       " 9,\n",
       " 7,\n",
       " 8,\n",
       " 7,\n",
       " 10,\n",
       " 5,\n",
       " 11,\n",
       " 9,\n",
       " 7,\n",
       " 6,\n",
       " 7,\n",
       " 14,\n",
       " 12,\n",
       " 9,\n",
       " 8,\n",
       " 9,\n",
       " 10,\n",
       " 7,\n",
       " 11,\n",
       " 5,\n",
       " 6,\n",
       " 7,\n",
       " 8,\n",
       " 10,\n",
       " 10,\n",
       " 11,\n",
       " 9,\n",
       " 9,\n",
       " 9,\n",
       " 8,\n",
       " 8,\n",
       " 5,\n",
       " 9,\n",
       " 7,\n",
       " 5,\n",
       " 8,\n",
       " 8,\n",
       " 4,\n",
       " 8,\n",
       " 10,\n",
       " 5,\n",
       " 5,\n",
       " 5,\n",
       " 5,\n",
       " 6,\n",
       " 7,\n",
       " 5,\n",
       " 7,\n",
       " 7,\n",
       " 10,\n",
       " 5,\n",
       " 9,\n",
       " 7,\n",
       " 8,\n",
       " 9,\n",
       " 4,\n",
       " 8,\n",
       " 11,\n",
       " 10,\n",
       " 11,\n",
       " 5,\n",
       " 9,\n",
       " 5,\n",
       " 5,\n",
       " 6,\n",
       " 7,\n",
       " 4,\n",
       " 7,\n",
       " 10,\n",
       " 5,\n",
       " 6,\n",
       " 10,\n",
       " 5,\n",
       " 8,\n",
       " 6,\n",
       " 11,\n",
       " 6,\n",
       " 10,\n",
       " 7,\n",
       " 6,\n",
       " 9,\n",
       " 9,\n",
       " 10,\n",
       " 4,\n",
       " 7,\n",
       " 10,\n",
       " 10,\n",
       " 6,\n",
       " 6,\n",
       " 11,\n",
       " 12,\n",
       " 5,\n",
       " 8,\n",
       " 6,\n",
       " 8,\n",
       " 7,\n",
       " 9,\n",
       " 8,\n",
       " 6,\n",
       " 5,\n",
       " 8,\n",
       " 5,\n",
       " 6,\n",
       " 6,\n",
       " 12,\n",
       " 10,\n",
       " 7,\n",
       " 8,\n",
       " 8,\n",
       " 6,\n",
       " 9,\n",
       " 13,\n",
       " 8,\n",
       " 7,\n",
       " 10,\n",
       " 7,\n",
       " 6,\n",
       " 12,\n",
       " 9,\n",
       " 7,\n",
       " 5,\n",
       " 6,\n",
       " 7,\n",
       " 9,\n",
       " 6,\n",
       " 6,\n",
       " 9,\n",
       " 5,\n",
       " 6,\n",
       " 9,\n",
       " 4,\n",
       " 5,\n",
       " 6,\n",
       " 8,\n",
       " 5,\n",
       " 5,\n",
       " 4,\n",
       " 7,\n",
       " 12,\n",
       " 8,\n",
       " 8,\n",
       " 8,\n",
       " 6,\n",
       " 9,\n",
       " 7,\n",
       " 7,\n",
       " 7,\n",
       " 7,\n",
       " 6,\n",
       " 7,\n",
       " 10,\n",
       " 7,\n",
       " 5,\n",
       " 6,\n",
       " 5,\n",
       " 6,\n",
       " 6,\n",
       " 9,\n",
       " 9,\n",
       " 7,\n",
       " 8,\n",
       " 9,\n",
       " 11,\n",
       " 4,\n",
       " 5,\n",
       " 8,\n",
       " 9,\n",
       " 11,\n",
       " 10,\n",
       " 8,\n",
       " 6,\n",
       " 6,\n",
       " 7,\n",
       " 8,\n",
       " 8,\n",
       " 11,\n",
       " 7,\n",
       " 6,\n",
       " 12,\n",
       " 9,\n",
       " 11,\n",
       " 5,\n",
       " 10,\n",
       " 10,\n",
       " 10,\n",
       " 4,\n",
       " 5,\n",
       " 6,\n",
       " 5,\n",
       " 9,\n",
       " 6,\n",
       " 9,\n",
       " 6,\n",
       " 7,\n",
       " 9,\n",
       " 6,\n",
       " 7,\n",
       " 9,\n",
       " 8,\n",
       " 8,\n",
       " 10,\n",
       " 8,\n",
       " 5,\n",
       " 7,\n",
       " 9,\n",
       " 8,\n",
       " 13,\n",
       " 7,\n",
       " 8,\n",
       " 8,\n",
       " 4,\n",
       " 6,\n",
       " 8,\n",
       " 6,\n",
       " 6,\n",
       " 8,\n",
       " 5,\n",
       " 8,\n",
       " 12,\n",
       " 6,\n",
       " 6,\n",
       " 9,\n",
       " 6,\n",
       " 8,\n",
       " 11,\n",
       " 9,\n",
       " 4,\n",
       " 8,\n",
       " 9,\n",
       " 10,\n",
       " 4,\n",
       " 5,\n",
       " 7,\n",
       " 9,\n",
       " 4,\n",
       " 8,\n",
       " 8,\n",
       " 8,\n",
       " 5,\n",
       " 7,\n",
       " 4,\n",
       " 5,\n",
       " 7,\n",
       " 12,\n",
       " 6,\n",
       " 7,\n",
       " 9,\n",
       " 9,\n",
       " 4,\n",
       " 5,\n",
       " 7,\n",
       " 7,\n",
       " 7,\n",
       " 6,\n",
       " 4,\n",
       " 10,\n",
       " 10,\n",
       " 5,\n",
       " 7,\n",
       " 7,\n",
       " 6,\n",
       " 11,\n",
       " 6,\n",
       " 8,\n",
       " 9,\n",
       " 10,\n",
       " 6,\n",
       " 10,\n",
       " 11,\n",
       " 13,\n",
       " 9,\n",
       " 10,\n",
       " 7,\n",
       " 4,\n",
       " 8,\n",
       " 7,\n",
       " 7,\n",
       " 12,\n",
       " 9,\n",
       " 7,\n",
       " 10,\n",
       " 10,\n",
       " 10,\n",
       " 9,\n",
       " 10,\n",
       " 10,\n",
       " 8,\n",
       " 8,\n",
       " 11,\n",
       " 10,\n",
       " 8,\n",
       " 7,\n",
       " 5,\n",
       " 6,\n",
       " 5,\n",
       " 11,\n",
       " 4,\n",
       " 9,\n",
       " 5,\n",
       " 9,\n",
       " 8,\n",
       " 7,\n",
       " 5,\n",
       " 7,\n",
       " 8,\n",
       " 7,\n",
       " 6,\n",
       " 7,\n",
       " 6,\n",
       " 6,\n",
       " 6,\n",
       " 6,\n",
       " 7,\n",
       " 9,\n",
       " 9,\n",
       " 7,\n",
       " 10,\n",
       " 8,\n",
       " 4,\n",
       " 11,\n",
       " 5,\n",
       " 7,\n",
       " 3,\n",
       " 5,\n",
       " 10,\n",
       " 8,\n",
       " 12,\n",
       " 9,\n",
       " 11,\n",
       " 6,\n",
       " 7,\n",
       " 11,\n",
       " 7,\n",
       " 6,\n",
       " 11,\n",
       " 8,\n",
       " 7,\n",
       " 10,\n",
       " 8,\n",
       " 8,\n",
       " 9,\n",
       " 11,\n",
       " 10,\n",
       " 6,\n",
       " 13,\n",
       " 8,\n",
       " 8,\n",
       " 6,\n",
       " 7,\n",
       " 4,\n",
       " 12,\n",
       " 11,\n",
       " 8,\n",
       " 7,\n",
       " 7,\n",
       " 6,\n",
       " 6,\n",
       " 7,\n",
       " 8,\n",
       " 3,\n",
       " 8,\n",
       " 12,\n",
       " 8,\n",
       " 9,\n",
       " 8,\n",
       " 4,\n",
       " 4,\n",
       " 4,\n",
       " 8,\n",
       " 5,\n",
       " 4,\n",
       " 8,\n",
       " 7,\n",
       " 7,\n",
       " 11,\n",
       " 6,\n",
       " 8,\n",
       " 7,\n",
       " 8,\n",
       " 7,\n",
       " 8,\n",
       " 10,\n",
       " 14,\n",
       " 9,\n",
       " 8,\n",
       " 7,\n",
       " 7,\n",
       " 11,\n",
       " 14,\n",
       " 6,\n",
       " 12,\n",
       " 10,\n",
       " 6,\n",
       " 8,\n",
       " 7,\n",
       " 5,\n",
       " 11,\n",
       " 8,\n",
       " 7,\n",
       " 8,\n",
       " 6,\n",
       " 3,\n",
       " 8,\n",
       " 7,\n",
       " 11,\n",
       " 7,\n",
       " 8,\n",
       " 7,\n",
       " 8,\n",
       " 7,\n",
       " 6,\n",
       " 6,\n",
       " 8,\n",
       " 8,\n",
       " 9,\n",
       " 8,\n",
       " 8,\n",
       " 12,\n",
       " 9,\n",
       " 6,\n",
       " 6,\n",
       " 8,\n",
       " 7,\n",
       " 9,\n",
       " 8,\n",
       " 8,\n",
       " 6,\n",
       " 5,\n",
       " 12,\n",
       " 10,\n",
       " 5,\n",
       " 12,\n",
       " 10,\n",
       " 12,\n",
       " 6,\n",
       " 4,\n",
       " 6,\n",
       " 8,\n",
       " 7,\n",
       " 12,\n",
       " 10,\n",
       " 8,\n",
       " 7,\n",
       " 5,\n",
       " 6,\n",
       " 10,\n",
       " 4,\n",
       " 7,\n",
       " 3,\n",
       " 14,\n",
       " 8,\n",
       " 9,\n",
       " 9,\n",
       " 4,\n",
       " 10,\n",
       " 9,\n",
       " 7,\n",
       " 11,\n",
       " 9,\n",
       " 7,\n",
       " 4,\n",
       " 5,\n",
       " 10,\n",
       " 10,\n",
       " 6,\n",
       " 9,\n",
       " 8,\n",
       " 10,\n",
       " 8,\n",
       " 7,\n",
       " 9,\n",
       " 8,\n",
       " 5,\n",
       " 7,\n",
       " 8,\n",
       " 7,\n",
       " 9,\n",
       " 10,\n",
       " 9,\n",
       " 10,\n",
       " 7,\n",
       " 7,\n",
       " 5,\n",
       " 9,\n",
       " 7,\n",
       " 5,\n",
       " 9,\n",
       " 8,\n",
       " 10,\n",
       " 9,\n",
       " 6,\n",
       " 9,\n",
       " 8,\n",
       " 5,\n",
       " 5,\n",
       " 7,\n",
       " 7,\n",
       " 5,\n",
       " 6,\n",
       " 9,\n",
       " 7,\n",
       " 3,\n",
       " 3,\n",
       " 3,\n",
       " 12,\n",
       " 7,\n",
       " 10,\n",
       " 14,\n",
       " 9,\n",
       " 10,\n",
       " 6,\n",
       " 6,\n",
       " 6,\n",
       " 8,\n",
       " 4,\n",
       " 8,\n",
       " 7,\n",
       " 5,\n",
       " 7,\n",
       " 9,\n",
       " 5,\n",
       " 7,\n",
       " 13,\n",
       " 7,\n",
       " 8,\n",
       " 8,\n",
       " 11,\n",
       " 9,\n",
       " 11,\n",
       " 8,\n",
       " 6,\n",
       " 10,\n",
       " 5,\n",
       " 7,\n",
       " 9,\n",
       " 11,\n",
       " 8,\n",
       " 7,\n",
       " 12,\n",
       " 9,\n",
       " 5,\n",
       " 10,\n",
       " 5,\n",
       " 9,\n",
       " 10,\n",
       " 10,\n",
       " 10,\n",
       " 6,\n",
       " 8,\n",
       " 9,\n",
       " 8,\n",
       " 7,\n",
       " 9,\n",
       " 13,\n",
       " 9,\n",
       " 8,\n",
       " 10,\n",
       " 7,\n",
       " 10,\n",
       " 5,\n",
       " 7,\n",
       " 6,\n",
       " 8,\n",
       " 9,\n",
       " 10,\n",
       " 6,\n",
       " 13,\n",
       " 11,\n",
       " 5,\n",
       " 9,\n",
       " 9,\n",
       " 8,\n",
       " 10,\n",
       " 9,\n",
       " 5,\n",
       " 6,\n",
       " 7,\n",
       " 7,\n",
       " 6,\n",
       " 8,\n",
       " 9,\n",
       " 10,\n",
       " 5,\n",
       " 10,\n",
       " 8,\n",
       " 10,\n",
       " 8,\n",
       " 10,\n",
       " 6,\n",
       " 9,\n",
       " 6,\n",
       " 7,\n",
       " 6,\n",
       " 8,\n",
       " 6,\n",
       " 7,\n",
       " 7,\n",
       " 7,\n",
       " 9,\n",
       " 8,\n",
       " 10,\n",
       " 5,\n",
       " 10,\n",
       " 9,\n",
       " 5,\n",
       " 4,\n",
       " 7,\n",
       " 7,\n",
       " 11,\n",
       " 11,\n",
       " 5,\n",
       " 12,\n",
       " 10,\n",
       " 12,\n",
       " 11,\n",
       " 7,\n",
       " 8,\n",
       " 5,\n",
       " 9,\n",
       " 12,\n",
       " 6,\n",
       " 7,\n",
       " 7,\n",
       " 7,\n",
       " 7,\n",
       " 6,\n",
       " 8,\n",
       " 7,\n",
       " 6,\n",
       " 12,\n",
       " 8,\n",
       " 6,\n",
       " 8,\n",
       " 8,\n",
       " 4,\n",
       " 6,\n",
       " 8,\n",
       " 7,\n",
       " 12,\n",
       " 10,\n",
       " 9,\n",
       " 8,\n",
       " 6,\n",
       " 8,\n",
       " 11,\n",
       " 7,\n",
       " ...]"
      ]
     },
     "execution_count": 122,
     "metadata": {},
     "output_type": "execute_result"
    }
   ],
   "source": [
    "lengths"
   ]
  },
  {
   "cell_type": "code",
   "execution_count": 124,
   "metadata": {},
   "outputs": [
    {
     "data": {
      "text/plain": [
       "(array([  51.,  159.,  368.,  747., 1113., 1357., 1356., 1175.,  938.,\n",
       "         627.,  398.,  215.,  112.,   37.,   10.,    7.]),\n",
       " array([ 2.    ,  2.9375,  3.875 ,  4.8125,  5.75  ,  6.6875,  7.625 ,\n",
       "         8.5625,  9.5   , 10.4375, 11.375 , 12.3125, 13.25  , 14.1875,\n",
       "        15.125 , 16.0625, 17.    ]),\n",
       " <a list of 16 Patch objects>)"
      ]
     },
     "execution_count": 124,
     "metadata": {},
     "output_type": "execute_result"
    },
    {
     "data": {
      "image/png": "[encoded data removed]",
      "text/plain": [
       "<Figure size 432x288 with 1 Axes>"
      ]
     },
     "metadata": {
      "needs_background": "light"
     },
     "output_type": "display_data"
    }
   ],
   "source": [
    "hist(list(lengths), bins=len(set(lengths)))"
   ]
  },
  {
   "cell_type": "code",
   "execution_count": 127,
   "metadata": {},
   "outputs": [],
   "source": [
    "def pdist_good_turing_hack(counter, onecounter, base=1/26., prior=1e-8):\n",
    "    \"\"\"The probability of word, given evidence from the counter.\n",
    "    For unknown words, look at the one-counts from onecounter, based on length.\n",
    "    This gets ideas from Good-Turing, but doesn't implement all of it.\n",
    "    prior is an additional factor to make unknowns less likely.\n",
    "    base is how much we attenuate probability for each letter beyond longest.\"\"\"\n",
    "    N = sum(list(counter.values()))\n",
    "    N2 = sum(list(onecounter.values()))\n",
    "    lengths = map(len, [w for w in onecounter if onecounter[w] == 1])\n",
    "    ones = Counter(lengths)\n",
    "    longest = max(ones)\n",
    "    return (lambda word: \n",
    "            counter[word] / N if (word in counter) \n",
    "            else prior * (ones[len(word)] / N2 or \n",
    "                          ones[longest] / N2 * base ** (len(word)-longest)))\n",
    "\n",
    "# Redefine P1w\n",
    "P1w = pdist_good_turing_hack(COUNTS1, COUNTS)"
   ]
  },
  {
   "cell_type": "code",
   "execution_count": 128,
   "metadata": {},
   "outputs": [
    {
     "data": {
      "text/plain": [
       "['this',\n",
       " 'is',\n",
       " 'a',\n",
       " 'test',\n",
       " 'of',\n",
       " 'segmentation',\n",
       " 'of',\n",
       " 'a',\n",
       " 'very',\n",
       " 'long',\n",
       " 'sequence',\n",
       " 'of',\n",
       " 'words']"
      ]
     },
     "execution_count": 128,
     "metadata": {},
     "output_type": "execute_result"
    }
   ],
   "source": [
    "segment.cache.clear()\n",
    "segment('thisisatestofsegmentationofaverylongsequenceofwords')"
   ]
  },
  {
   "cell_type": "markdown",
   "metadata": {},
   "source": [
    "That was somewhat unsatisfactory.  We really had to crank up the prior, specifically because the process of running `segment` generates so many non-word candidates (and also because there will be fewer unknowns with respect to the billion-word `WORDS1` than with respect to the million-word `WORDS`).  It would be better to separate out the prior from the word distribution, so that the same distribution could be used for multiple tasks, not just for this one.\n",
    "\n",
    "Now let's think for a short while about smoothing **bigram** counts.  Specifically, what if we haven't seen a bigram sequence, but we've seen both words individually?  For example, to evaluate P(\"Greenland\") in the phrase \"turn left at Greenland\", we might have three pieces of evidence:\n",
    "\n",
    "    P(\"Greenland\")\n",
    "    P(\"Greenland\" | \"at\")\n",
    "    P(\"Greenland\" | \"left\", \"at\")\n",
    "    \n",
    "Presumably, the first would have a relatively large count, and thus large reliability, while the second and third would have decreasing counts and reliability.  With *interpolation smoothing* we combine all three pieces of evidence, with a linear combination:\n",
    "    \n",
    "$P(w_3 \\mid w_1w_2) = c_1 P(w_3) + c_2 P(w_3 \\mid w_2) + c_3 P(w_3 \\mid w_1w_2)$\n",
    "\n",
    "How do we choose $c_1, c_2, c_3$?  By experiment: train on training data, maximize $c$ values on development data, then evaluate on test data.\n",
    "    \n",
    "However, when we do this, we are saying, with probability $c_1$, that a word can appear anywhere, regardless of previous words.  But some words are more free to do that than other words.  Consider two words with similar probability:"
   ]
  },
  {
   "cell_type": "code",
   "execution_count": 129,
   "metadata": {},
   "outputs": [
    {
     "name": "stdout",
     "output_type": "stream",
     "text": [
      "7.733146236612908e-05\n",
      "7.724949668890416e-05\n"
     ]
    }
   ],
   "source": [
    "print (P1w('francisco'))\n",
    "print (P1w('individuals'))"
   ]
  },
  {
   "cell_type": "markdown",
   "metadata": {},
   "source": [
    "They have similar unigram probabilities but differ in their freedom to be the second word of a bigram:"
   ]
  },
  {
   "cell_type": "code",
   "execution_count": 130,
   "metadata": {},
   "outputs": [
    {
     "name": "stdout",
     "output_type": "stream",
     "text": [
      "['San francisco', 'san francisco']\n"
     ]
    }
   ],
   "source": [
    "print ([bigram for bigram in COUNTS2 if bigram.endswith('francisco')])"
   ]
  },
  {
   "cell_type": "code",
   "execution_count": 132,
   "metadata": {},
   "outputs": [
    {
     "name": "stdout",
     "output_type": "stream",
     "text": [
      "['<S> individuals', 'For individuals', 'These individuals', 'about individuals', 'affected individuals', 'all individuals', 'among individuals', 'and individuals', 'are individuals', 'as individuals', 'between individuals', 'both individuals', 'by individuals', 'certain individuals', 'different individuals', 'few individuals', 'following individuals', 'for individuals', 'from individuals', 'healthy individuals', 'help individuals', 'in individuals', 'income individuals', 'infected individuals', 'interested individuals', 'many individuals', 'minded individuals', 'more individuals', 'of individuals', 'on individuals', 'or individuals', 'other individuals', 'private individuals', 'qualified individuals', 'some individuals', 'such individuals', 'that individuals', 'the individuals', 'these individuals', 'those individuals', 'to individuals', 'two individuals', 'where individuals', 'which individuals', 'with individuals']\n"
     ]
    }
   ],
   "source": [
    "print ([bigram for bigram in COUNTS2 if bigram.endswith('individuals')])"
   ]
  },
  {
   "cell_type": "markdown",
   "metadata": {},
   "source": [
    "Intuitively, words that appear in many bigrams before are more likely to appear in a new, previously unseen bigram. In *Kneser-Ney* smoothing (Reinhard Kneser, Hermann Ney) we multiply the bigram counts by this ratio.  But I won't implement that here, because The Count never covered it.\n",
    "\n",
    "(10) One More Task: Secret Codes\n",
    "===\n",
    "\n",
    "Let's tackle one more task: decoding secret codes.  We'll start with the simplest of codes, a rotation cipher, sometimes called a shift cipher or a Caesar cipher (because this was state-of-the-art crypotgraphy in 100 BC).  First, a method to encode:"
   ]
  },
  {
   "cell_type": "code",
   "execution_count": 236,
   "metadata": {},
   "outputs": [],
   "source": [
    "def rot(msg, n=13): \n",
    "    \"Encode a message with a rotation (Caesar) cipher.\" \n",
    "    return encode(msg, alphabet[n:]+alphabet[:n])\n",
    "\n",
    "def encode(msg, key): \n",
    "    \"Encode a message with a substitution cipher.\" \n",
    "    table = string.maketrans(upperlower(alphabet), upperlower(key))\n",
    "    return msg.translate(table) \n",
    "\n",
    "def upperlower(text): return text.upper() + text.lower()  "
   ]
  },
  {
   "cell_type": "code",
   "execution_count": 237,
   "metadata": {},
   "outputs": [
    {
     "data": {
      "text/plain": [
       "'Uijt jt b tfdsfu nfttbhf.'"
      ]
     },
     "execution_count": 237,
     "metadata": {},
     "output_type": "execute_result"
    }
   ],
   "source": [
    "rot('This is a secret message.', 1)"
   ]
  },
  {
   "cell_type": "code",
   "execution_count": 238,
   "metadata": {},
   "outputs": [
    {
     "data": {
      "text/plain": [
       "'Guvf vf n frperg zrffntr.'"
      ]
     },
     "execution_count": 238,
     "metadata": {},
     "output_type": "execute_result"
    }
   ],
   "source": [
    "rot('This is a secret message.')"
   ]
  },
  {
   "cell_type": "code",
   "execution_count": 239,
   "metadata": {},
   "outputs": [
    {
     "data": {
      "text/plain": [
       "'This is a secret message.'"
      ]
     },
     "execution_count": 239,
     "metadata": {},
     "output_type": "execute_result"
    }
   ],
   "source": [
    "rot(rot('This is a secret message.'))"
   ]
  },
  {
   "cell_type": "markdown",
   "metadata": {},
   "source": [
    "Now decoding is easy: try all 26 candidates, and find the one with the maximum Pwords:"
   ]
  },
  {
   "cell_type": "code",
   "execution_count": 240,
   "metadata": {},
   "outputs": [],
   "source": [
    "def decode_rot(secret):\n",
    "    \"Decode a secret message that has been encoded with a rotation cipher.\"\n",
    "    candidates = [rot(secret, i) for i in range(len(alphabet))]\n",
    "    return max(candidates, key=lambda msg: Pwords(tokens(msg)))"
   ]
  },
  {
   "cell_type": "code",
   "execution_count": 249,
   "metadata": {},
   "outputs": [
    {
     "name": "stdout",
     "output_type": "stream",
     "text": [
      "nyfbefnjkyvrejnvi\n",
      "['who', 'knows', 'the', 'answer']\n"
     ]
    }
   ],
   "source": [
    "msg = 'Who knows the answer?'\n",
    "secret = rot(msg, 17)\n",
    "\n",
    "print(secret)\n",
    "print(decode_rot(secret))"
   ]
  },
  {
   "cell_type": "markdown",
   "metadata": {},
   "source": [
    "Let's make it a tiny bit harder.  When the secret message contains separate words, it is too easy to decode by guessing that the one-letter words are most likely \"I\" or \"a\".  So what if the encode routine mushed all the letters together:"
   ]
  },
  {
   "cell_type": "code",
   "execution_count": 244,
   "metadata": {},
   "outputs": [],
   "source": [
    "def encode(msg, key): \n",
    "    \"Encode a message with a substitution cipher; remove non-letters.\" \n",
    "    msg = cat(tokens(msg))  ## Change here\n",
    "    table = string.maketrans(upperlower(alphabet), upperlower(key))\n",
    "    return msg.translate(table) "
   ]
  },
  {
   "cell_type": "markdown",
   "metadata": {},
   "source": [
    "Now we can decode by segmenting.  We change candidates to be a list of segmentations, and still choose the candidate with the best Pwords: "
   ]
  },
  {
   "cell_type": "code",
   "execution_count": 245,
   "metadata": {},
   "outputs": [],
   "source": [
    "def decode_rot(secret):\n",
    "    \"\"\"Decode a secret message that has been encoded with a rotation cipher,\n",
    "    and which has had all the non-letters squeezed out.\"\"\"\n",
    "    candidates = [segment(rot(secret, i)) for i in range(len(alphabet))]\n",
    "    return max(candidates, key=lambda msg: Pwords(msg))"
   ]
  },
  {
   "cell_type": "code",
   "execution_count": 247,
   "metadata": {},
   "outputs": [
    {
     "name": "stdout",
     "output_type": "stream",
     "text": [
      "pahdghplmaxtglpxkmablmbfxtgrhgxunxeexk\n",
      "['who', 'knows', 'the', 'answer', 'this', 'time', 'anyone', 'bueller']\n"
     ]
    }
   ],
   "source": [
    "msg = 'Who knows the answer this time? Anyone? Bueller?'\n",
    "secret = rot(msg, 19)\n",
    "\n",
    "print(secret)\n",
    "print(decode_rot(secret))"
   ]
  },
  {
   "cell_type": "code",
   "execution_count": 248,
   "metadata": {},
   "outputs": [
    {
     "name": "stdout",
     "output_type": "stream",
     "text": [
      "['pahdghplmaxtglpxkma', 'blmbfxtgrhgxunxeexk'] 8.7783378348e-33\n",
      "['qbiehiqmnbyuhmqylnb', 'cmncgyuhsihyvoyffyl'] 8.7783378348e-33\n",
      "['rcjfijrnoczvinrzmoc', 'dnodhzvitjizwpzggzm'] 8.7783378348e-33\n",
      "['sdkgjksopdawjosan', 'pdeopeiawjukjaxqahh', 'an'] 1.53192669415e-32\n",
      "['tel', 'hkltpqebxkptboqef', 'pqfjbxkvlkbyrbiibo'] 1.59574951877e-32\n",
      "['ufmilmuqrfcylqucprf', 'gqrgkcylwmlczscjjcp'] 8.7783378348e-33\n",
      "['vgnjmnvrsgdzmrvdqsg', 'hrshldzmxnmdatdkkdq'] 8.7783378348e-33\n",
      "['who', 'knows', 'the', 'answer', 'this', 'time', 'anyone', 'bueller'] 7.18422540159e-29\n",
      "['xiplopxtuifbotxfsui', 'jtujnfbozpofcvfmmfs'] 8.7783378348e-33\n",
      "['yjqmpqyuvjgcpuygtvj', 'kuvkogcpaqpgdwgnngt'] 8.7783378348e-33\n",
      "['zkrnqrzvwkhdqvzhuwk', 'lvwlphdqbrqhexhoohu'] 8.7783378348e-33\n",
      "['also', 'rsawxlierwaivxlmw', 'xmqiercsrifyippiv'] 4.20728492071e-30\n",
      "['bmtpstbxymjfsxbjwym', 'nxynrjfsdtsjgzjqqjw'] 8.7783378348e-33\n",
      "['cnuqtucyznkgtyckxz', 'no', 'yzoskgteutkhakrrkx'] 9.4554362126e-33\n",
      "['do', 'vruvdzaolhuzdlyao', 'pzaptlhufvuliblssly'] 9.5930573844e-33\n",
      "['epwsvweabpmivaemzbp', 'qabqumivgwvmjcmttmz'] 8.7783378348e-33\n",
      "['fqxtwxfbcqnjwbfnacq', 'rbcrvnjwhxwnkdnuuna'] 8.7783378348e-33\n",
      "['gryuxygcdrokxcgobdr', 'scdswokxiyxoleovvob'] 8.7783378348e-33\n",
      "['hszvyzhdesplydhpc', 'est', 'detxplyjzypmfpwwpc'] 1.52450959071e-32\n",
      "['it', 'awzaieftqmzeiqdft', 'uefuyqmzkazqngqxxqd'] 2.83847421472e-32\n",
      "['jubxabjfgurnafjregu', 'vfgvzrnalbarohryyre'] 8.7783378348e-33\n",
      "['kvcybckghvsobgksfhv', 'wghwasobmcbspiszzsf'] 8.7783378348e-33\n",
      "['lwdzcdlhiwtpchltgiw', 'xhixbtpcndctqjtaatg'] 8.7783378348e-33\n",
      "['mxeademijxuqdimuhjx', 'yijycuqdoedurkubbuh'] 8.7783378348e-33\n",
      "['nyfbefnjkyvrejnviky', 'zjkzdvrepfevslvccvi'] 8.7783378348e-33\n",
      "['ozgcfgoklzwsfkowjlz', 'aklaewsfqgfwtmwddwj'] 8.7783378348e-33\n"
     ]
    }
   ],
   "source": [
    "candidates = [segment(rot(secret, i)) for i in range(len(alphabet))]\n",
    "\n",
    "for c in candidates:\n",
    "    print c, Pwords(c)"
   ]
  },
  {
   "cell_type": "markdown",
   "metadata": {},
   "source": [
    "What about a general substitution cipher?  The problem is that there are 26! substitution ciphers, and we can't enumerate all of them.  We would need to search through this space.  Initially make some guess at a substitution, then swap two letters; if that looks better keep going, if not try something else.  This approach solves most substitution cipher problems, although it can take a few minutes on a message of length 100 words or so.\n",
    "\n",
    "(∞ and beyond) Where To Go Next\n",
    "===\n",
    "\n",
    "What to do next?  Here are some options:\n",
    "    \n",
    "- **Spelling correction**: Use bigram or trigram context; make a model of spelling errors/edit distance; go beyond edit distance 2; make it more efficient\n",
    "- **Evaluation**: Make a serious test suite; search for best parameters (e.g. $c_1, c_2, c_3$)\n",
    "- **Smoothing**: Implement Kneser-Ney and/or Interpolation; do letter *n*-gram-based smoothing\n",
    "- **Secret Codes**: Implement a search over substitution ciphers\n",
    "- **Classification**: Given a corpus of texts, each with a classification label, write a classifier that will take a new text and return a label.  Examples: spam/no-spam; favorable/unfavorable; what author am I most like; reading level.\n",
    "- **Clustering**: Group data by similarity.  Find synonyms/related words.\n",
    "- **Parsing**: Representing nested structures rather than linear sequences of words.  relations between parts of the structure.  Implicit missing bits.  Inducing a grammar.\n",
    "- **Meaning**: What semantic relations are meant by the syntactic relations?\n",
    "- **Translation**: Using examples to transform one language into another.\n",
    "- **Question Answering**: Using examples to transfer a question into an answer, either by retrieving a passage, or by synthesizing one.\n",
    "- **Speech**: Dealing with analog audio signals rather than discrete sequences of characters."
   ]
  },
  {
   "cell_type": "code",
   "execution_count": 136,
   "metadata": {},
   "outputs": [
    {
     "data": {
      "text/plain": [
       "['d', 'esertdirigibles']"
      ]
     },
     "execution_count": 136,
     "metadata": {},
     "output_type": "execute_result"
    }
   ],
   "source": [
    "segment2('desertdirigibles')"
   ]
  },
  {
   "cell_type": "code",
   "execution_count": null,
   "metadata": {},
   "outputs": [],
   "source": []
  }
 ],
 "metadata": {
  "kernelspec": {
   "display_name": "Python 3",
   "language": "python",
   "name": "python3"
  },
  "language_info": {
   "codemirror_mode": {
    "name": "ipython",
    "version": 3
   },
   "file_extension": ".py",
   "mimetype": "text/x-python",
   "name": "python",
   "nbconvert_exporter": "python",
   "pygments_lexer": "ipython3",
   "version": "3.9.1"
  }
 },
 "nbformat": 4,
 "nbformat_minor": 1
}
